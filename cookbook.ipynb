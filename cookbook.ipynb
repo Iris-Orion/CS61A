{
 "cells": [
  {
   "cell_type": "code",
   "execution_count": 1,
   "metadata": {},
   "outputs": [],
   "source": [
    "# from urllib.request import urlopen\n",
    "\n",
    "# shakespeare = urlopen('http://composingprograms.com/shakespeare.txt')\n",
    "\n",
    "# words= set(shakespeare.read().decode().split())\n",
    "\n",
    "# w for w in words if len(w) == 6 and w[::-1] in words"
   ]
  },
  {
   "cell_type": "code",
   "execution_count": 2,
   "metadata": {},
   "outputs": [
    {
     "data": {
      "text/plain": [
       "-2"
      ]
     },
     "execution_count": 2,
     "metadata": {},
     "output_type": "execute_result"
    }
   ],
   "source": [
    "max(7.5, 9.5)\n",
    "pow(100, 2)\n",
    "pow(2, 100)\n",
    "max(1, -2, 3, -4)\n",
    "max(min(1, -2), min(pow(3, 5), -4))"
   ]
  },
  {
   "cell_type": "code",
   "execution_count": 3,
   "metadata": {},
   "outputs": [
    {
     "data": {
      "text/plain": [
       "16.0"
      ]
     },
     "execution_count": 3,
     "metadata": {},
     "output_type": "execute_result"
    }
   ],
   "source": [
    "from math import sqrt\n",
    "sqrt(256)"
   ]
  },
  {
   "cell_type": "code",
   "execution_count": 4,
   "metadata": {},
   "outputs": [
    {
     "data": {
      "text/plain": [
       "16"
      ]
     },
     "execution_count": 4,
     "metadata": {},
     "output_type": "execute_result"
    }
   ],
   "source": [
    "from operator import add, sub, mul\n",
    "add(14, 28)\n",
    "sub(100, mul(7, add(8, 4)))"
   ]
  },
  {
   "cell_type": "code",
   "execution_count": 5,
   "metadata": {},
   "outputs": [
    {
     "data": {
      "text/plain": [
       "1.0002380197528042"
      ]
     },
     "execution_count": 5,
     "metadata": {},
     "output_type": "execute_result"
    }
   ],
   "source": [
    "from math import pi\n",
    "pi * 71 / 223"
   ]
  },
  {
   "cell_type": "code",
   "execution_count": 6,
   "metadata": {},
   "outputs": [
    {
     "data": {
      "text/plain": [
       "3"
      ]
     },
     "execution_count": 6,
     "metadata": {},
     "output_type": "execute_result"
    }
   ],
   "source": [
    "f = max\n",
    "f(1, 2, 3)\n",
    "\n",
    "# max = 5\n",
    "# max(5, 4)\n",
    "# 运行即报错"
   ]
  },
  {
   "cell_type": "code",
   "execution_count": 7,
   "metadata": {},
   "outputs": [
    {
     "name": "stdout",
     "output_type": "stream",
     "text": [
      "4.5\n",
      "3\n"
     ]
    }
   ],
   "source": [
    "x, y = 3, 4.5\n",
    "y, x = x, y\n",
    "print(x)\n",
    "print(y)"
   ]
  },
  {
   "cell_type": "code",
   "execution_count": 8,
   "metadata": {},
   "outputs": [
    {
     "name": "stdout",
     "output_type": "stream",
     "text": [
      "1\n",
      "2\n",
      "None None\n"
     ]
    }
   ],
   "source": [
    "# print不是纯函数，其返回值是None\n",
    "print(print(1), print(2))"
   ]
  },
  {
   "cell_type": "code",
   "execution_count": 9,
   "metadata": {},
   "outputs": [
    {
     "data": {
      "text/plain": [
       "81"
      ]
     },
     "execution_count": 9,
     "metadata": {},
     "output_type": "execute_result"
    }
   ],
   "source": [
    "def square(x):\n",
    "    return mul(x, x)\n",
    "square(21)\n",
    "square(square(3))"
   ]
  },
  {
   "cell_type": "markdown",
   "metadata": {},
   "source": [
    "函数定义通常包含描述函数的文档，称为文档字符串，它必须与函数体一起缩进。文档字符串通常是三重引用的。第一行在一行中描述了该函数的工作。以下几行可以描述参数并阐明函数的行为："
   ]
  },
  {
   "cell_type": "code",
   "execution_count": 10,
   "metadata": {},
   "outputs": [
    {
     "name": "stdout",
     "output_type": "stream",
     "text": [
      "Help on function pressure in module __main__:\n",
      "\n",
      "pressure(v, t, n)\n",
      "    Compute the pressure in pascals of an ideal gas.\n",
      "    \n",
      "    Applies the ideal gas law: http://en.wikipedia.org/wiki/Ideal_gas_law\n",
      "    \n",
      "    v -- volume of gas, in cubic meters\n",
      "    t -- absolute temperature in degrees kelvin\n",
      "    n -- particles of gas\n",
      "\n"
     ]
    }
   ],
   "source": [
    "def pressure(v, t, n):\n",
    "        \"\"\"Compute the pressure in pascals of an ideal gas.\n",
    "\n",
    "        Applies the ideal gas law: http://en.wikipedia.org/wiki/Ideal_gas_law\n",
    "\n",
    "        v -- volume of gas, in cubic meters\n",
    "        t -- absolute temperature in degrees kelvin\n",
    "        n -- particles of gas\n",
    "        \"\"\"\n",
    "        k = 1.38e-23  # Boltzmann's constant\n",
    "        return n * k * t / v\n",
    "\n",
    "help(pressure)"
   ]
  },
  {
   "cell_type": "code",
   "execution_count": 11,
   "metadata": {},
   "outputs": [],
   "source": [
    "# 提供参数的默认值\n",
    "def pressure(v, t, n=6.022e23):\n",
    "        \"\"\"Compute the pressure in pascals of an ideal gas.\n",
    "\n",
    "        v -- volume of gas, in cubic meters\n",
    "        t -- absolute temperature in degrees kelvin\n",
    "        n -- particles of gas (default: one mole)\n",
    "        \"\"\"\n",
    "        k = 1.38e-23  # Boltzmann's constant\n",
    "        return n * k * t / v"
   ]
  },
  {
   "cell_type": "code",
   "execution_count": 12,
   "metadata": {},
   "outputs": [
    {
     "data": {
      "text/plain": [
       "True"
      ]
     },
     "execution_count": 12,
     "metadata": {},
     "output_type": "execute_result"
    }
   ],
   "source": [
    "0 == -0"
   ]
  },
  {
   "cell_type": "code",
   "execution_count": 13,
   "metadata": {},
   "outputs": [
    {
     "data": {
      "text/plain": [
       "13"
      ]
     },
     "execution_count": 13,
     "metadata": {},
     "output_type": "execute_result"
    }
   ],
   "source": [
    "def fib(n):\n",
    "    \"\"\" 斐波那契 \"\"\"\n",
    "    pred, curr = 0, 1\n",
    "    k = 2\n",
    "    while k < n:\n",
    "        pred, curr = curr, pred + curr\n",
    "        k = k + 1\n",
    "    return curr\n",
    "\n",
    "result = fib(8)\n",
    "result"
   ]
  },
  {
   "cell_type": "code",
   "execution_count": 14,
   "metadata": {},
   "outputs": [],
   "source": [
    "# 测试语句，将测试语句单独封装放在_test.py中\n",
    "def fib_test():\n",
    "    assert fib(2) == 1, 'The 2nd fibonacci number should be 1'"
   ]
  },
  {
   "cell_type": "markdown",
   "metadata": {},
   "source": [
    "Doctest\n",
    "\n",
    "Python 提供了一种方便的方法，可以将简单的测试直接放置在函数的文档字符串中。文档字符串的第一行应包含函数的单行描述，后跟一个空行。随后可能会详细描述参数和行为。此外，文档字符串可能包括调用该函数的示例交互式会话："
   ]
  },
  {
   "cell_type": "code",
   "execution_count": 15,
   "metadata": {},
   "outputs": [
    {
     "name": "stdout",
     "output_type": "stream",
     "text": [
      "Help on function sum_naturals in module __main__:\n",
      "\n",
      "sum_naturals(n)\n",
      "    计算前n个自然数的和 \n",
      "    >>> sum_naturals(10)\n",
      "    55\n",
      "    >>> sum_naturals(100)\n",
      "    5050\n",
      "\n"
     ]
    },
    {
     "data": {
      "text/plain": [
       "TestResults(failed=0, attempted=2)"
      ]
     },
     "execution_count": 15,
     "metadata": {},
     "output_type": "execute_result"
    }
   ],
   "source": [
    "def sum_naturals(n):\n",
    "    \"\"\" 计算前n个自然数的和 \n",
    "    >>> sum_naturals(10)\n",
    "    55\n",
    "    >>> sum_naturals(100)\n",
    "    5050\n",
    "    \"\"\"\n",
    "    total, k = 0, 1\n",
    "    while k <= n:\n",
    "        total, k = total + k, k + 1\n",
    "    return total\n",
    "\n",
    "help(sum_naturals)\n",
    "\n",
    "from doctest import testmod\n",
    "testmod()"
   ]
  },
  {
   "cell_type": "markdown",
   "metadata": {},
   "source": [
    "To verify the doctest interactions for only a single function, we use a `doctest` function called `run_docstring_examples`. This function is (unfortunately) a bit complicated to call. Its first argument is the function to test. The second should always be the result of the expression `globals()`, a built-in function that returns the global environment. The third argument is True to indicate that we would like \"verbose\" output: a catalog of all tests run."
   ]
  },
  {
   "cell_type": "code",
   "execution_count": 16,
   "metadata": {},
   "outputs": [
    {
     "name": "stdout",
     "output_type": "stream",
     "text": [
      "Finding tests in NoName\n",
      "Trying:\n",
      "    sum_naturals(10)\n",
      "Expecting:\n",
      "    55\n",
      "ok\n",
      "Trying:\n",
      "    sum_naturals(100)\n",
      "Expecting:\n",
      "    5050\n",
      "ok\n"
     ]
    }
   ],
   "source": [
    "from doctest import run_docstring_examples\n",
    "run_docstring_examples(sum_naturals, globals(), True)"
   ]
  },
  {
   "cell_type": "code",
   "execution_count": 17,
   "metadata": {},
   "outputs": [
    {
     "data": {
      "text/plain": [
       "36"
      ]
     },
     "execution_count": 17,
     "metadata": {},
     "output_type": "execute_result"
    }
   ],
   "source": [
    "# 高阶函数, 函数作为参数\n",
    "def summation(n, term):\n",
    "    total, k = 0, 1\n",
    "    while k <= n:\n",
    "        total, k = total + term(k), k + 1\n",
    "    return total\n",
    "\n",
    "def cube(x):\n",
    "    return x*x*x\n",
    "\n",
    "def sum_cubes(n):\n",
    "    return summation(n, cube)\n",
    "\n",
    "def identity(x):\n",
    "    return x\n",
    "\n",
    "def sum_naturals(n):\n",
    "    return summation(n, identity)\n",
    "\n",
    "result = sum_cubes(3)\n",
    "result"
   ]
  },
  {
   "cell_type": "code",
   "execution_count": 18,
   "metadata": {},
   "outputs": [
    {
     "data": {
      "text/plain": [
       "3.141592153589902"
      ]
     },
     "execution_count": 18,
     "metadata": {},
     "output_type": "execute_result"
    }
   ],
   "source": [
    "def pi_term(x):\n",
    "    return 8 / ((4 * x - 3) * (4 * x - 1))\n",
    "\n",
    "def pi_sum(n):\n",
    "    return summation(n, pi_term)\n",
    "\n",
    "# pi的近似\n",
    "pi_sum(1e6)"
   ]
  },
  {
   "attachments": {
    "image.png": {
     "image/png": "[encoded data removed]"
    }
   },
   "cell_type": "markdown",
   "metadata": {},
   "source": [
    "递归扩展来获得黄金比的连分数\n",
    "\n",
    "![image.png](attachment:image.png)"
   ]
  },
  {
   "cell_type": "code",
   "execution_count": 19,
   "metadata": {},
   "outputs": [],
   "source": [
    "# 黄金分割\n",
    "def improve(update, close, guess=1):\n",
    "    while not close(guess):\n",
    "        guess = update(guess)\n",
    "    return guess\n",
    "\n",
    "def golden_update(guess):\n",
    "    return 1 / guess + 1\n",
    "\n",
    "def square_close_to_successor(guess):\n",
    "    return approx_eq(guess * guess, guess + 1)\n",
    "\n",
    "def approx_eq(x, y, tolerance=1e-15):\n",
    "    return abs(x - y) < tolerance\n",
    "\n",
    "improve(golden_update, square_close_to_successor)\n",
    "\n",
    "# 精确闭式解\n",
    "from math import sqrt\n",
    "phi = 1 / 2 + sqrt(5) / 2\n",
    "def improve_test():\n",
    "    approx_phi = improve(golden_update, square_close_to_successor)\n",
    "    assert approx_eq(phi, approx_phi), 'phi differs from its approximation'\n",
    "\n",
    "improve_test()"
   ]
  },
  {
   "cell_type": "code",
   "execution_count": 20,
   "metadata": {},
   "outputs": [
    {
     "data": {
      "text/plain": [
       "16.00000352670594"
      ]
     },
     "execution_count": 20,
     "metadata": {},
     "output_type": "execute_result"
    }
   ],
   "source": [
    "# 嵌套定义\n",
    "def average(x, y):\n",
    "    return (x + y) / 2\n",
    "\n",
    "def improve(update, close, guess=1):\n",
    "    while not close(guess):\n",
    "        guess = update(guess)\n",
    "    return guess\n",
    "\n",
    "def approx_eq(x, y, tolerance=1e-3):\n",
    "    return abs(x - y) < tolerance\n",
    "\n",
    "def sqrt_appro(a):\n",
    "    def sqrt_update(x):\n",
    "        return average(x, a/x)\n",
    "    def sqrt_close(x):\n",
    "        return approx_eq(x * x, a)\n",
    "    return improve(sqrt_update, sqrt_close)\n",
    "sqrt_appro(256)"
   ]
  },
  {
   "cell_type": "code",
   "execution_count": 21,
   "metadata": {},
   "outputs": [
    {
     "data": {
      "text/plain": [
       "169"
      ]
     },
     "execution_count": 21,
     "metadata": {},
     "output_type": "execute_result"
    }
   ],
   "source": [
    "# return值为函数\n",
    "def compose1(f, g):\n",
    "    def h(x):\n",
    "        return f(g(x))\n",
    "    return h\n",
    "\n",
    "def square(x):\n",
    "    return x * x\n",
    "\n",
    "def successor(x):\n",
    "    return x + 1\n",
    "\n",
    "square_successor = compose1(square, successor)\n",
    "result = square_successor(12)\n",
    "result"
   ]
  },
  {
   "cell_type": "code",
   "execution_count": 22,
   "metadata": {},
   "outputs": [
    {
     "data": {
      "text/plain": [
       "4.000017449510739"
      ]
     },
     "execution_count": 22,
     "metadata": {},
     "output_type": "execute_result"
    }
   ],
   "source": [
    "def improve(update, close, guess=1):\n",
    "    while not close(guess):\n",
    "        guess = update(guess)\n",
    "    return guess\n",
    "\n",
    "def approx_eq(x, y, tolerance=1e-3):\n",
    "    return abs(x - y) < tolerance\n",
    "\n",
    "def newton_update(f, df):\n",
    "    def update(x):\n",
    "        return x - f(x) / df(x)\n",
    "    return update\n",
    "\n",
    "def find_zero(f, df):\n",
    "    def near_zero(x):\n",
    "        return approx_eq(f(x), 0)\n",
    "    return improve(newton_update(f, df), near_zero)\n",
    "\n",
    "def power(x, n):\n",
    "    product, k = 1, 0\n",
    "    while k < n:\n",
    "        product, k = product * x, k + 1\n",
    "    return product\n",
    "\n",
    "def nth_root_of_a(n, a):\n",
    "    def f(x):\n",
    "        return power(x, n) - a\n",
    "    def df(x):\n",
    "        return n * power(x, n-1)\n",
    "    return find_zero(f, df)\n",
    "\n",
    "nth_root_of_a(3, 64)"
   ]
  },
  {
   "cell_type": "code",
   "execution_count": 23,
   "metadata": {},
   "outputs": [
    {
     "name": "stdout",
     "output_type": "stream",
     "text": [
      "1\n",
      "2\n",
      "4\n",
      "8\n",
      "16\n",
      "32\n",
      "64\n",
      "128\n",
      "256\n",
      "512\n"
     ]
    }
   ],
   "source": [
    "def curried_pow(x):\n",
    "    def h(y):\n",
    "        return pow(x, y)\n",
    "    return h\n",
    "\n",
    "curried_pow(2)(3)\n",
    "\n",
    "def map_to_range(start, end, f):\n",
    "    while start < end:\n",
    "        print(f(start))\n",
    "        start = start + 1\n",
    "map_to_range(0, 10, curried_pow(2))"
   ]
  },
  {
   "cell_type": "code",
   "execution_count": 24,
   "metadata": {},
   "outputs": [
    {
     "name": "stdout",
     "output_type": "stream",
     "text": [
      "1\n",
      "2\n",
      "4\n",
      "8\n",
      "16\n",
      "32\n",
      "64\n",
      "128\n",
      "256\n",
      "512\n"
     ]
    }
   ],
   "source": [
    "def curry2(f):\n",
    "    def g(x):\n",
    "        def h(y):\n",
    "            return f(x, y)\n",
    "        return h\n",
    "    return g\n",
    "\n",
    "def uncurry(g):\n",
    "    def f(x, y):\n",
    "        return g(x)(y)\n",
    "    return f\n",
    "\n",
    "pow_curried = curry2(pow)\n",
    "pow_curried(2)(5)   # = 32\n",
    "map_to_range(0, 10, pow_curried(2))\n"
   ]
  },
  {
   "cell_type": "code",
   "execution_count": 25,
   "metadata": {},
   "outputs": [
    {
     "data": {
      "text/plain": [
       "32"
      ]
     },
     "execution_count": 25,
     "metadata": {},
     "output_type": "execute_result"
    }
   ],
   "source": [
    "uncurry(pow_curried)(2, 5)"
   ]
  },
  {
   "cell_type": "code",
   "execution_count": 26,
   "metadata": {},
   "outputs": [
    {
     "data": {
      "text/plain": [
       "144"
      ]
     },
     "execution_count": 26,
     "metadata": {},
     "output_type": "execute_result"
    }
   ],
   "source": [
    "s = lambda x: x * x\n",
    "s(12)"
   ]
  },
  {
   "cell_type": "code",
   "execution_count": 27,
   "metadata": {},
   "outputs": [
    {
     "data": {
      "text/plain": [
       "169"
      ]
     },
     "execution_count": 27,
     "metadata": {},
     "output_type": "execute_result"
    }
   ],
   "source": [
    "def compose1(f, g):\n",
    "    return lambda x: f(g(x))\n",
    "\n",
    "f = compose1(lambda x : x * x, lambda y : y + 1)\n",
    "\n",
    "f(12)"
   ]
  },
  {
   "cell_type": "markdown",
   "metadata": {},
   "source": [
    "在Python中，`@` 符号被称为装饰器（Decorator），它提供了一种简洁的语法来修改或增强函数或类的行为。装饰器允许你在不修改原始函数定义的情况下，对函数的行为进行包装或修改。\n",
    "\n",
    "在你的例子中，`@trace` 是一个装饰器，它被应用于函数 `triple` 上面。这意味着 `trace` 函数将会被调用，然后将函数 `triple` 作为参数传递给 `trace` 函数。`trace` 函数返回的结果（一个新的函数）将会替代原始的 `triple` 函数。\n",
    "\n",
    "在这个例子中，`trace` 函数接受一个函数 `fn` 作为参数，然后返回一个新的函数 `wrapped`。在 `wrapped` 函数内部，它首先会打印一条带有 `fn` 和参数 `x` 的消息，然后调用原始函数 `fn`，并将参数 `x` 传递给它。最后，`wrapped` 函数返回原始函数的结果。\n",
    "\n",
    "因此，当你调用 `triple(12)` 时，实际上会调用 `wrapped(12)`，而 `wrapped` 函数中会输出 `-> triple ( 12 )`，然后调用原始的 `triple` 函数，返回结果 `36`。"
   ]
  },
  {
   "cell_type": "code",
   "execution_count": 28,
   "metadata": {},
   "outputs": [
    {
     "name": "stdout",
     "output_type": "stream",
     "text": [
      "-> <function triple at 0x0000020FCCB31430> ( 12 )\n"
     ]
    },
    {
     "data": {
      "text/plain": [
       "36"
      ]
     },
     "execution_count": 28,
     "metadata": {},
     "output_type": "execute_result"
    }
   ],
   "source": [
    "def trace(fn):\n",
    "    def wrapped(x):\n",
    "        print('->', fn, '(', x, ')')\n",
    "        return fn(x)\n",
    "    return wrapped\n",
    "\n",
    "@trace\n",
    "def triple(x):\n",
    "    return 3 * x\n",
    "\n",
    "triple(12)"
   ]
  },
  {
   "cell_type": "code",
   "execution_count": 29,
   "metadata": {},
   "outputs": [
    {
     "data": {
      "text/plain": [
       "126"
      ]
     },
     "execution_count": 29,
     "metadata": {},
     "output_type": "execute_result"
    }
   ],
   "source": [
    "# 递归\n",
    "def sum_digits(n):\n",
    "    \"\"\" 返回各位数字之和 \"\"\"\n",
    "    if n < 10:\n",
    "        return n\n",
    "    else:\n",
    "        all_but_last, last = n // 10, n % 10\n",
    "        return sum_digits(all_but_last) + last\n",
    "sum_digits(11408855402054064613470328848384)"
   ]
  },
  {
   "cell_type": "code",
   "execution_count": 30,
   "metadata": {},
   "outputs": [
    {
     "data": {
      "text/plain": [
       "True"
      ]
     },
     "execution_count": 30,
     "metadata": {},
     "output_type": "execute_result"
    }
   ],
   "source": [
    "# 相互递归\n",
    "def is_even(n):\n",
    "    if n == 0:\n",
    "        return True\n",
    "    else:\n",
    "        return is_odd(n-1)\n",
    "\n",
    "def is_odd(n):\n",
    "    if n == 0:\n",
    "        return False\n",
    "    else:\n",
    "        return is_even(n-1)\n",
    "\n",
    "is_even(4)"
   ]
  },
  {
   "cell_type": "code",
   "execution_count": 31,
   "metadata": {},
   "outputs": [
    {
     "data": {
      "text/plain": [
       "True"
      ]
     },
     "execution_count": 31,
     "metadata": {},
     "output_type": "execute_result"
    }
   ],
   "source": [
    "# 将互递归函数变成单个递归函数\n",
    "def is_even(n):\n",
    "    if n == 0:\n",
    "        return True\n",
    "    else:\n",
    "        if (n-1) == 0:\n",
    "            return False\n",
    "        else:\n",
    "            return is_even((n-1)-1)\n",
    "is_even(8)"
   ]
  },
  {
   "cell_type": "code",
   "execution_count": 32,
   "metadata": {},
   "outputs": [
    {
     "name": "stdout",
     "output_type": "stream",
     "text": [
      "2013\n",
      "201\n",
      "20\n",
      "2\n",
      "20\n",
      "201\n",
      "2013\n"
     ]
    }
   ],
   "source": [
    "def cascade(n):\n",
    "    print(n)\n",
    "    if n >= 10:\n",
    "        cascade(n // 10)\n",
    "        print(n)\n",
    "\n",
    "cascade(2013)"
   ]
  },
  {
   "cell_type": "code",
   "execution_count": 33,
   "metadata": {},
   "outputs": [
    {
     "data": {
      "text/plain": [
       "9"
      ]
     },
     "execution_count": 33,
     "metadata": {},
     "output_type": "execute_result"
    }
   ],
   "source": [
    "# 树回归\n",
    "# 6 = 2 + 4\n",
    "# 6 = 1 + 1 + 4\n",
    "# 6 = 3 + 3\n",
    "# 6 = 1 + 2 + 3\n",
    "# 6 = 1 + 1 + 1 + 3\n",
    "# 6 = 2 + 2 + 2\n",
    "# 6 = 1 + 1 + 2 + 2\n",
    "# 6 = 1 + 1 + 1 + 1 + 2\n",
    "# 6 = 1 + 1 + 1 + 1 + 1 + 1\n",
    "def count_partitions(n, m):\n",
    "    if n == 0:\n",
    "        return 1\n",
    "    elif n < 0:\n",
    "        return 0\n",
    "    elif m == 0:\n",
    "        return 0\n",
    "    else :\n",
    "        return count_partitions(n-m, m) + count_partitions(n, m-1)\n",
    "\n",
    "count_partitions(6, 4)"
   ]
  },
  {
   "cell_type": "markdown",
   "metadata": {},
   "source": [
    "Python 包含三种原生数值类型：整数 (int)、实数 (float) 和复数 (complex)。"
   ]
  },
  {
   "cell_type": "code",
   "execution_count": 34,
   "metadata": {},
   "outputs": [
    {
     "data": {
      "text/plain": [
       "complex"
      ]
     },
     "execution_count": 34,
     "metadata": {},
     "output_type": "execute_result"
    }
   ],
   "source": [
    "type(1+2j)"
   ]
  },
  {
   "cell_type": "markdown",
   "metadata": {},
   "source": [
    "## Data Abstraction"
   ]
  },
  {
   "cell_type": "code",
   "execution_count": 35,
   "metadata": {},
   "outputs": [
    {
     "name": "stdout",
     "output_type": "stream",
     "text": [
      "1 / 6\n",
      "2 / 3\n"
     ]
    }
   ],
   "source": [
    "# 表示有理数，而不是使用内置数据格式表示\n",
    "from math import gcd\n",
    "def rational(n, d):\n",
    "    g = gcd(n, d)    # 最大公约数  greatest common denominator\n",
    "    return [n // g, d // g]\n",
    "\n",
    "def numer(x):\n",
    "    return x[0]\n",
    "\n",
    "def denom(x):\n",
    "    return x[1]\n",
    "\n",
    "def print_rational(x):\n",
    "    print(numer(x), '/', denom(x))\n",
    "\n",
    "def add_rationals(x, y):\n",
    "    \"\"\"\n",
    "    有理数相加\n",
    "    \"\"\"\n",
    "    nx, dx = numer(x), denom(y)\n",
    "    ny, dy = numer(y), denom(y)\n",
    "    return rational(nx * dy + ny * dx, dx * dy)\n",
    "\n",
    "def mul_rationals(x, y):\n",
    "    return rational(numer(x) * numer(y), denom(x) * denom(y))\n",
    "\n",
    "def rationals_are_equal(x, y):\n",
    "    return numer(x) * denom(y) == numer(y) * denom(x)\n",
    "\n",
    "half = rational(1, 2)\n",
    "third = rational(1, 3)\n",
    "\n",
    "print_rational(mul_rationals(half, third))\n",
    "print_rational(add_rationals(third, third))"
   ]
  },
  {
   "cell_type": "code",
   "execution_count": 36,
   "metadata": {},
   "outputs": [
    {
     "data": {
      "text/plain": [
       "20"
      ]
     },
     "execution_count": 36,
     "metadata": {},
     "output_type": "execute_result"
    }
   ],
   "source": [
    "def pair(x, y):\n",
    "    def get(index):\n",
    "        if index == 0:\n",
    "            return x\n",
    "        elif index == 1:\n",
    "            return y\n",
    "    return get\n",
    "\n",
    "def select(p, i):\n",
    "    return p(i)\n",
    "\n",
    "p = pair(20, 14)\n",
    "select(p, 0)"
   ]
  },
  {
   "cell_type": "code",
   "execution_count": 37,
   "metadata": {},
   "outputs": [
    {
     "data": {
      "text/plain": [
       "2"
      ]
     },
     "execution_count": 37,
     "metadata": {},
     "output_type": "execute_result"
    }
   ],
   "source": [
    "# sequence unpacking\n",
    "pairs = [[1, 2], [2, 2], [2, 3], [4, 4]]\n",
    "same_count = 0\n",
    "for x, y in pairs:\n",
    "    if x == y:\n",
    "        same_count = same_count + 1\n",
    "same_count"
   ]
  },
  {
   "cell_type": "code",
   "execution_count": 38,
   "metadata": {},
   "outputs": [
    {
     "name": "stdout",
     "output_type": "stream",
     "text": [
      "go cs61A\n",
      "go cs61A\n",
      "go cs61A\n"
     ]
    }
   ],
   "source": [
    "for _ in range(3):\n",
    "    print(\"go cs61A\")"
   ]
  },
  {
   "cell_type": "markdown",
   "metadata": {},
   "source": [
    "### 列表表达式\n",
    "The general form of a list comprehension is:\n",
    "\n",
    "`[<map expression> for <name> in <sequence expression> if <filter expression>]`\n",
    "\n",
    "为了计算列表推导式，Python 计算 `<sequence expression>`，它必须返回一个可迭代的值。然后，对于按顺序排列的每个元素，元素值绑定到 `<name>`，对过滤表达式进行求值，如果它产生真值，则对映射表达式进行求值。映射表达式的值被收集到一个列表中。"
   ]
  },
  {
   "cell_type": "code",
   "execution_count": 39,
   "metadata": {},
   "outputs": [
    {
     "name": "stdout",
     "output_type": "stream",
     "text": [
      "[2, 4, 6, 8, 10]\n",
      "[1, 5]\n"
     ]
    }
   ],
   "source": [
    "odds = [1, 3, 5, 7, 9]\n",
    "print([x + 1 for x in odds])\n",
    "print([x for x in odds if 25 % x == 0])"
   ]
  },
  {
   "cell_type": "code",
   "execution_count": 40,
   "metadata": {},
   "outputs": [
    {
     "name": "stdout",
     "output_type": "stream",
     "text": [
      "[1, 6, 28, 496]\n"
     ]
    },
    {
     "data": {
      "text/plain": [
       "36"
      ]
     },
     "execution_count": 40,
     "metadata": {},
     "output_type": "execute_result"
    }
   ],
   "source": [
    "def divisors(n):\n",
    "    return [1] + [x for x in range(2, n) if n % x == 0]\n",
    "\n",
    "# 计算完美数：完美数 = 其除数之和的正整数\n",
    "print([n for n in range(1, 1000) if sum(divisors(n)) == n])\n",
    "\n",
    "# 在给定面积的情况下找到具有整数边长的矩形的最小周长。\n",
    "def width(area, height):\n",
    "    assert area % height == 0\n",
    "    return area // height\n",
    "\n",
    "def perimeter(width, height):\n",
    "    return 2 * width + 2 * height\n",
    "\n",
    "def minimum_perimeter(area):\n",
    "    heights = divisors(area)\n",
    "    perimeters = [perimeter(width(area, h), h) for h in heights]\n",
    "    return min(perimeters)\n",
    "\n",
    "minimum_perimeter(80)"
   ]
  },
  {
   "cell_type": "markdown",
   "metadata": {},
   "source": [
    "### 高阶函数"
   ]
  },
  {
   "cell_type": "code",
   "execution_count": 41,
   "metadata": {},
   "outputs": [
    {
     "name": "stdout",
     "output_type": "stream",
     "text": [
      "simple test:  64\n",
      "simple test:  [1, 2, 4, 7, 14]\n"
     ]
    },
    {
     "data": {
      "text/plain": [
       "[1, 6, 28, 496]"
      ]
     },
     "execution_count": 41,
     "metadata": {},
     "output_type": "execute_result"
    }
   ],
   "source": [
    "def apply_to_all(map_fn, s):\n",
    "    return [map_fn(x) for x in s]\n",
    "\n",
    "def keep_if(filter_fn, s):\n",
    "    return [x for x in s if filter_fn(x)]\n",
    "\n",
    "def reduce(reduce_fn, s, initial):\n",
    "    reduced = initial\n",
    "    for x in s:\n",
    "        reduced = reduce_fn(reduced, x)\n",
    "    return reduced\n",
    "\n",
    "# simple test\n",
    "from operator import mul\n",
    "print('simple test: ', reduce(mul, [2, 4, 8], 1))\n",
    "\n",
    "# 使用高阶函数来计算完美数\n",
    "\n",
    "# n的所有除数s\n",
    "def divisors_of(n):\n",
    "    divides_n = lambda x : n % x == 0\n",
    "    return [1] + keep_if(divides_n, range(2, n))\n",
    "\n",
    "# simple test\n",
    "print('simple test: ', divisors_of(28))\n",
    "\n",
    "from operator import add\n",
    "def sum_of_divisors(n):\n",
    "    return reduce(add, divisors_of(n), 0)\n",
    "\n",
    "def perfect(n):\n",
    "    return sum_of_divisors(n) == n\n",
    "\n",
    "keep_if(perfect, range(1, 1000))\n"
   ]
  },
  {
   "cell_type": "markdown",
   "metadata": {},
   "source": [
    "**Conventional Names**. In the computer science community, the more common name for apply_to_all is map and the more common name for keep_if is filter. In Python, the built-in map and filter are generalizations of these functions that do not return lists. These functions are discussed in Chapter 4. The definitions above are equivalent to applying the list constructor to the result of built-in map and filter calls.\n",
    "\n",
    "```\n",
    ">>> apply_to_all = lambda map_fn, s: list(map(map_fn, s))\n",
    ">>> keep_if = lambda filter_fn, s: list(filter(filter_fn, s))\n",
    "```\n",
    "The reduce function is built into the functools module of the Python standard library. In this version, the initial argument is optional.\n",
    "\n",
    "```\n",
    ">>> from functools import reduce\n",
    ">>> from operator import mul\n",
    ">>> def product(s):\n",
    "        return reduce(mul, s)\n",
    ">>> product([1, 2, 3, 4, 5])\n",
    "120\n",
    "```\n",
    "\n",
    "In Python programs, it is more common to use list comprehensions directly rather than higher-order functions, but both approaches to sequence processing are widely used."
   ]
  },
  {
   "cell_type": "markdown",
   "metadata": {},
   "source": [
    "切片：http://getpython3.com/diveintopython3/native-datatypes.html#slicinglists"
   ]
  },
  {
   "cell_type": "code",
   "execution_count": 42,
   "metadata": {},
   "outputs": [
    {
     "name": "stdout",
     "output_type": "stream",
     "text": [
      "True\n",
      "True\n",
      "[1, 8]\n",
      "[8, 2, 8]\n"
     ]
    }
   ],
   "source": [
    "# 成员资格(membership)\n",
    "digits = [1, 8, 2, 8]\n",
    "print(2 in digits)\n",
    "print(1828 not in digits)\n",
    "\n",
    "# 切片\n",
    "print(digits[0:2])\n",
    "print(digits[1:])"
   ]
  },
  {
   "cell_type": "markdown",
   "metadata": {},
   "source": [
    "### 字符串\n",
    "\n",
    "more to read : http://getpython3.com/diveintopython3/strings.html\n",
    "\n",
    "字符串文字可以表示任意文本，用单引号或双引号括起来。"
   ]
  },
  {
   "cell_type": "code",
   "execution_count": 43,
   "metadata": {},
   "outputs": [
    {
     "name": "stdout",
     "output_type": "stream",
     "text": [
      "i am a string\n",
      "i am a string\n",
      "Berkeley, CA\n",
      "True\n",
      "2 is an element of [1, 8, 2, 8]\n"
     ]
    }
   ],
   "source": [
    "print('i am a string')\n",
    "print(\"i am a string\")\n",
    "city = 'Berkeley'\n",
    "print(city + ', CA')\n",
    "print('here' in \"Where is waldo?\")\n",
    "\n",
    "# 多行文字。字符串不限于单行。三引号分隔跨多行的字符串文字。\n",
    "\"\"\"The Zen of Python\n",
    "claims, Readability counts.\n",
    "Read more: import this.\"\"\"\n",
    "\n",
    "# 强制转换\n",
    "print(str(2) + ' is an element of ' + str(digits))"
   ]
  },
  {
   "cell_type": "markdown",
   "metadata": {},
   "source": [
    "### Trees"
   ]
  },
  {
   "cell_type": "markdown",
   "metadata": {},
   "source": [
    "在列表中嵌套列表会带来复杂性。树是一种基本的数据抽象，它对层次值的构造和操作方式施加了规则性。\n",
    "\n",
    "一棵树有一个根标签和一系列分支。树的每个分支都是一棵树。没有树枝的树称为叶子。一棵树中包含的任何树都称为该树的子树（例如分支的分支）。树的每个子树的根称为该树中的节点。\n",
    "\n",
    "树的数据抽象由构造函数`tree`、选择器`label`和`branches`。我们从一个简化版本开始。\n",
    "\n",
    "只有当一棵树有根标签并且所有分支也是树时，它才是良构的。 `is_tree` 函数应用于树构造函数以验证所有分支是否格式良好。\n",
    "\n",
    "`is_leaf` 函数检查树是否有分支。"
   ]
  },
  {
   "cell_type": "code",
   "execution_count": 44,
   "metadata": {},
   "outputs": [],
   "source": [
    "def tree(root_label, branches=[]):\n",
    "    for branch in branches:\n",
    "        assert is_tree(branch), 'branches must be trees'\n",
    "    return [root_label] + list(branches)\n",
    "\n",
    "def label(tree):\n",
    "    return tree[0]\n",
    "\n",
    "def branches(tree):\n",
    "    return tree[1:]\n",
    "\n",
    "def is_tree(tree):\n",
    "    if type(tree) != list or len(tree) < 1:\n",
    "        return False\n",
    "    for branch in branches(tree):\n",
    "        if not is_tree(branch):\n",
    "            return False\n",
    "    return True\n",
    "\n",
    "def is_leaf(tree):\n",
    "    return not branches(tree)"
   ]
  },
  {
   "cell_type": "code",
   "execution_count": 45,
   "metadata": {},
   "outputs": [
    {
     "name": "stdout",
     "output_type": "stream",
     "text": [
      "[3, [1], [2, [1], [1]]]\n",
      "3\n",
      "[[1], [2, [1], [1]]]\n",
      "2\n",
      "False\n",
      "True\n"
     ]
    }
   ],
   "source": [
    "t = tree(3, [tree(1), tree(2, [tree(1), tree(1)])])\n",
    "print(t)\n",
    "print(label(t))\n",
    "print(branches(t))\n",
    "print(label(branches(t)[1]))\n",
    "print(is_leaf(t))\n",
    "print(is_leaf(branches(t)[0]))"
   ]
  },
  {
   "cell_type": "code",
   "execution_count": 46,
   "metadata": {},
   "outputs": [
    {
     "name": "stdout",
     "output_type": "stream",
     "text": [
      "[5, [2, [1], [1, [0], [1]]], [3, [1, [0], [1]], [2, [1], [1, [0], [1]]]]]\n",
      "8\n"
     ]
    }
   ],
   "source": [
    "def fib_tree(n):\n",
    "    if n == 0 or n == 1:\n",
    "        return tree(n)\n",
    "    else:\n",
    "        left, right = fib_tree(n-2), fib_tree(n-1)\n",
    "        fib_n = label(left) + label(right)\n",
    "        return tree(fib_n, [left, right])\n",
    "\n",
    "print ( fib_tree(5) )\n",
    "\n",
    "def count_leaves(tree):\n",
    "    if is_leaf(tree):\n",
    "        return 1\n",
    "    else:\n",
    "        branch_counts = [count_leaves(b) for b in branches(tree)]\n",
    "        return sum(branch_counts)\n",
    "\n",
    "print (count_leaves(fib_tree(5)))\n",
    "    "
   ]
  },
  {
   "cell_type": "code",
   "execution_count": 47,
   "metadata": {},
   "outputs": [
    {
     "name": "stdout",
     "output_type": "stream",
     "text": [
      "[2, [True], [1, [1, [True], [False]], [False]]]\n",
      "4+2\n",
      "4+1+1\n",
      "3+3\n",
      "3+2+1\n",
      "3+1+1+1\n",
      "2+2+2\n",
      "2+2+1+1\n",
      "2+1+1+1+1\n",
      "1+1+1+1+1+1\n"
     ]
    }
   ],
   "source": [
    "# 分区树\n",
    "def partition_tree(n, m):\n",
    "    if n == 0:\n",
    "        return tree(True)\n",
    "    elif n < 0 or m == 0:\n",
    "        return tree(False)\n",
    "    else:\n",
    "        left = partition_tree(n-m, m)\n",
    "        right = partition_tree(n, m-1)\n",
    "        return tree(m, [left, right])\n",
    "    \n",
    "print (partition_tree(2, 2))\n",
    "\n",
    "def print_parts(tree, partition=[]):\n",
    "    if is_leaf(tree):\n",
    "        if label(tree):\n",
    "            print('+'.join(partition))\n",
    "    else:\n",
    "        left, right = branches(tree)\n",
    "        m = str(label(tree))\n",
    "        print_parts(left, partition + [m])\n",
    "        print_parts(right, partition)\n",
    "\n",
    "print_parts(partition_tree(6, 4))\n"
   ]
  },
  {
   "cell_type": "code",
   "execution_count": 48,
   "metadata": {},
   "outputs": [],
   "source": [
    "# def right_binarize(tree):\n",
    "#     \"\"\"Construct a right-branching binary tree\"\"\"\n",
    "#     if is_leaf(tree):\n",
    "#         return tree\n",
    "#     if len(tree) > 2:\n",
    "#         tree = [tree[0], tree[1:]]\n",
    "#     return [right_binarize(b) for b in tree]\n",
    "\n",
    "# right_binarize([1, 2, 3, 4, 5, 6, 7])"
   ]
  },
  {
   "attachments": {
    "image-2.png": {
     "image/png": "[encoded data removed]"
    }
   },
   "cell_type": "markdown",
   "metadata": {},
   "source": [
    "### 链表 Linked Lists\n",
    "![image-2.png](attachment:image-2.png)"
   ]
  },
  {
   "cell_type": "code",
   "execution_count": 49,
   "metadata": {},
   "outputs": [
    {
     "name": "stdout",
     "output_type": "stream",
     "text": [
      "1\n",
      "[2, [3, [4, 'empty']]]\n",
      "4\n",
      "2\n",
      "4\n",
      "2\n"
     ]
    }
   ],
   "source": [
    "empty = 'empty'\n",
    "def is_link(s):\n",
    "    \"\"\"如果 s 为空或者是(first, rest)对, 则 s 是一个链表。\"\"\"\n",
    "    return s == 'empty' or (len(s) == 2 and is_link(s[1]))\n",
    "\n",
    "def link(first, rest):\n",
    "    \"\"\"构建链表\"\"\"\n",
    "    assert is_link(rest), \"rest must be a linked list\"\n",
    "    return [first, rest]\n",
    "\n",
    "def first(s):\n",
    "    \"\"\"返回链表的第一个元素\"\"\"\n",
    "    assert is_link(s), \"first only applies to linked lists.\"\n",
    "    assert s != empty, \"empty linked list has no first element.\"\n",
    "    return s[0]\n",
    "\n",
    "def rest(s):\n",
    "    \"\"\"返回链表的剩余元素\"\"\"\n",
    "    assert is_link(s), \"rest only applies to linked lists.\"\n",
    "    assert s != empty, \"empty linked list has no rest\"\n",
    "    return s[1]\n",
    "\n",
    "four = link(1, link(2, link(3, link(4, empty))))\n",
    "print(first(four))\n",
    "print(rest(four))\n",
    "\n",
    "def len_link(s):\n",
    "    \"\"\"返回链表的长度\"\"\"\n",
    "    length = 0\n",
    "    while s!= empty:\n",
    "        s, length = rest(s), length + 1\n",
    "    return length\n",
    "\n",
    "def getitem_link(s, i):\n",
    "    \"\"\"返回链表 s 索引 i 处的元素。\"\"\"\n",
    "    while i > 0:\n",
    "        s, i = rest(s), i - 1\n",
    "    return first(s)\n",
    "\n",
    "print ( len_link(four) )\n",
    "print (getitem_link(four, 1))\n",
    "\n",
    "# 递归\n",
    "def len_link_recursive(s):\n",
    "    if s == empty:\n",
    "        return 0\n",
    "    return 1 + len_link_recursive(rest(s))\n",
    "\n",
    "def getitem_link_recursive(s, i):\n",
    "    if i == 0:\n",
    "        return first(s)\n",
    "    return getitem_link_recursive(rest(s), i - 1)\n",
    "\n",
    "print ( len_link_recursive(four) )\n",
    "print (getitem_link_recursive(four, 1))\n"
   ]
  },
  {
   "cell_type": "markdown",
   "metadata": {},
   "source": [
    "链表的转化、组和"
   ]
  },
  {
   "cell_type": "code",
   "execution_count": 50,
   "metadata": {},
   "outputs": [
    {
     "name": "stdout",
     "output_type": "stream",
     "text": [
      "[1, [2, [3, [4, 'empty']]]]\n",
      "[1, [2, [3, [4, [1, [2, [3, [4, 'empty']]]]]]]]\n",
      "[1, [4, [9, [16, 'empty']]]]\n",
      "[2, [4, 'empty']]\n",
      "1, 2, 3, 4\n"
     ]
    }
   ],
   "source": [
    "def extend_link(s, t):\n",
    "    \"\"\"组合链表\"\"\"\n",
    "    assert is_link(s) and is_link(t)\n",
    "    if s == empty:\n",
    "        return t\n",
    "    else:\n",
    "        return link(first(s), extend_link(rest(s), t))\n",
    "\n",
    "# simple test\n",
    "four = link(1, link(2, link(3, link(4, empty))))\n",
    "print( four )\n",
    "print( extend_link(four, four) )\n",
    "\n",
    "def apply_to_all_link(f, s):\n",
    "    \"\"\"对链表中的元素进行f操作\"\"\"\n",
    "    assert is_link(s)\n",
    "    if s == empty:\n",
    "        return s\n",
    "    else:\n",
    "        return link(f(first(s)), apply_to_all_link(f, rest(s)))\n",
    "\n",
    "# simple test\n",
    "print ( apply_to_all_link(lambda x: x*x, four))\n",
    "\n",
    "def keep_if_link(f, s):\n",
    "    \"\"\"返回一个列表，其中包含 s 中 f(e) 为 true 的元素。\"\"\"\n",
    "    assert is_link(s)\n",
    "    if s == empty:\n",
    "        return s\n",
    "    else:\n",
    "        kept = keep_if_link(f, rest(s))\n",
    "        if f(first(s)):\n",
    "            return link(first(s), kept)\n",
    "        else:\n",
    "            return kept\n",
    "# simple test\n",
    "print ( keep_if_link(lambda x: x % 2 == 0, four))\n",
    "\n",
    "def join_link(s, separator):\n",
    "    \"\"\"返回 s 中所有元素的字符串，并用分隔符分隔\"\"\"\n",
    "    if s == empty:\n",
    "        return \"\"\n",
    "    elif rest(s) == empty:\n",
    "        return str(first(s))\n",
    "    else:\n",
    "        return str(first(s)) + separator +  join_link(rest(s), separator)\n",
    "# simple test\n",
    "print ( join_link(four, \", \"))"
   ]
  },
  {
   "cell_type": "code",
   "execution_count": 51,
   "metadata": {},
   "outputs": [
    {
     "name": "stdout",
     "output_type": "stream",
     "text": [
      "4+2\n",
      "4+1+1\n",
      "3+3\n",
      "3+2+1\n",
      "3+1+1+1\n",
      "2+2+2\n",
      "2+2+1+1\n",
      "2+1+1+1+1\n",
      "1+1+1+1+1+1\n"
     ]
    }
   ],
   "source": [
    "# 使用链表和递归解决分区问题\n",
    "def partitions(n, m):\n",
    "    \"\"\"使用最多 m 的部分返回 n 的分区的链表。每个分区都表示为一个链接列表。\"\"\"\n",
    "    if n == 0:\n",
    "        return link(empty, empty)\n",
    "    elif n < 0 or m == 0:\n",
    "        return empty\n",
    "    else:\n",
    "        using_m = partitions(n-m, m)\n",
    "        with_m = apply_to_all_link(lambda s: link(m, s), using_m)\n",
    "        without_m = partitions(n, m-1)\n",
    "        return extend_link(with_m, without_m)\n",
    "\n",
    "def print_partitions(n, m):\n",
    "    lists = partitions(n, m)\n",
    "    strings = apply_to_all_link(lambda s: join_link(s, \"+\"), lists)\n",
    "    print(join_link(strings, \"\\n\"))\n",
    "\n",
    "print_partitions(6, 4)"
   ]
  },
  {
   "cell_type": "markdown",
   "metadata": {},
   "source": [
    "## 可变数据 (Mutable Data)\n",
    "List \n",
    "\n",
    "Tuples \n",
    "\n",
    "Dictionaries"
   ]
  },
  {
   "cell_type": "code",
   "execution_count": 52,
   "metadata": {},
   "outputs": [
    {
     "name": "stdout",
     "output_type": "stream",
     "text": [
      "6 days, 0:00:00\n",
      "2014\n",
      "Tuesday, May 13\n"
     ]
    }
   ],
   "source": [
    "from datetime import date\n",
    "tues = date(2014, 5, 13)\n",
    "print(date(2014, 5, 19) - tues)\n",
    "print(tues.year)\n",
    "print(tues.strftime('%A, %B %d'))"
   ]
  },
  {
   "cell_type": "code",
   "execution_count": 53,
   "metadata": {},
   "outputs": [
    {
     "name": "stdout",
     "output_type": "stream",
     "text": [
      "['coin', 'cup', 'spade', 'club']\n",
      "['heart', 'diamond', 'spade', 'club']\n",
      "['heart', 'diamond', 'spade', 'club']\n",
      "[['heart', 'diamond', 'spade', 'club'], 'diamond', 'spade', 'club']\n",
      "[['heart', 'diamond', 'Joker', 'spade', 'club'], 'diamond', 'spade', 'club']\n",
      "['heart', 'diamond', 'spade', 'club']\n",
      "True\n",
      "False\n",
      "True\n"
     ]
    },
    {
     "data": {
      "text/plain": [
       "['♡', '♢', '♤', '♧']"
      ]
     },
     "execution_count": 53,
     "metadata": {},
     "output_type": "execute_result"
    }
   ],
   "source": [
    "# 列表操作\n",
    "chinese = ['coin', 'string', 'myraid']\n",
    "suits = chinese\n",
    "\n",
    "suits.pop()\n",
    "suits.remove('string')\n",
    "suits.append('cup')\n",
    "suits.extend(['sword', 'club'])\n",
    "suits[2] = 'spade'\n",
    "print(suits)\n",
    "\n",
    "suits[0:2] = ['heart', 'diamond']\n",
    "print(suits)\n",
    "print(chinese)  # suits 和 chinese 都绑定在同一个对象上\n",
    "\n",
    "# copy list\n",
    "nest = list(suits)\n",
    "nest[0] = suits\n",
    "print(nest)\n",
    "\n",
    "# also change nest\n",
    "suits.insert(2, 'Joker')\n",
    "print(nest)\n",
    "\n",
    "# also change suits\n",
    "nest[0].pop(2)\n",
    "print(suits)\n",
    "\n",
    "# 列表内容是否相同\n",
    "print(suits is nest[0])\n",
    "print (suits is ['heart', 'diamond', 'spade', 'club'])\n",
    "print (suits == ['heart', 'diamond', 'spade', 'club'])\n",
    "\n",
    "from unicodedata import lookup\n",
    "[lookup('WHITE ' + s.upper() + ' SUIT') for s in suits]"
   ]
  },
  {
   "cell_type": "markdown",
   "metadata": {},
   "source": [
    "插入、排序和反转列表的方法。所有这些变异操作都会改变列表的值；他们不会创建新的列表对象。"
   ]
  },
  {
   "cell_type": "code",
   "execution_count": 54,
   "metadata": {},
   "outputs": [
    {
     "name": "stdout",
     "output_type": "stream",
     "text": [
      "1 5\n",
      "the 1 ('and', 'only')\n",
      "<class 'tuple'>\n",
      "()\n",
      "(10,)\n"
     ]
    }
   ],
   "source": [
    "# tuples 内置类型\n",
    "print (1, 2+3)\n",
    "print (\"the\", 1, (\"and\", \"only\"))\n",
    "print (type((10, 20)))\n",
    "print (())\n",
    "print ((10, ))"
   ]
  },
  {
   "cell_type": "markdown",
   "metadata": {},
   "source": [
    "与列表一样，元组具有有限长度并支持元素选择。它们还有一些可用于列表的方法，例如`count`和`index`。\n",
    "\n",
    "元组是不可变的,虽然无法更改元组中的元素，但可以更改元组中包含的可变元素的值。"
   ]
  },
  {
   "cell_type": "code",
   "execution_count": 55,
   "metadata": {},
   "outputs": [
    {
     "name": "stdout",
     "output_type": "stream",
     "text": [
      "8\n",
      "down\n",
      "2\n",
      "4\n",
      "(10, 20, [30, 40])\n",
      "(10, 20, [30])\n"
     ]
    }
   ],
   "source": [
    "code = (\"up\", \"up\", \"down\",\"down\") + (\"left\", \"right\") * 2\n",
    "print ( len(code) )\n",
    "print ( code[3] )\n",
    "print ( code.count(\"down\"))\n",
    "print ( code.index(\"left\"))\n",
    "\n",
    "nest = (10, 20, [30, 40])\n",
    "print ( nest )\n",
    "nest[2].pop()\n",
    "print ( nest )"
   ]
  },
  {
   "cell_type": "markdown",
   "metadata": {},
   "source": [
    "### 字典\n",
    "字典是Python的内置数据类型，用于存储和操作对应关系。字典包含键值对，其中键和值都是对象。字典的目的是提供用于存储和检索值的抽象，这些值不是按连续整数索引，而是按描述性键索引。\n",
    "\n",
    "字符串通常用作键，因为字符串是事物名称的常规表示形式。\n",
    "\n",
    "字典类型还支持对整个字典的内容进行迭代的各种方法。`keys`,`values`,  `items` 都返回可迭代值。"
   ]
  },
  {
   "cell_type": "code",
   "execution_count": 56,
   "metadata": {},
   "outputs": [
    {
     "name": "stdout",
     "output_type": "stream",
     "text": [
      "{'I': 1, 'V': 5.0, 'X': 10, 'L': 50}\n",
      "66.0\n",
      "{3: 9, 4: 16, 5: 25}\n",
      "0\n",
      "5.0\n"
     ]
    },
    {
     "data": {
      "text/plain": [
       "{3: 9, 4: 16, 5: 25, 6: 36}"
      ]
     },
     "execution_count": 56,
     "metadata": {},
     "output_type": "execute_result"
    }
   ],
   "source": [
    "numerals = {'I': 1.0, 'V': 5.0, 'X': 10}\n",
    "# index dictionaries\n",
    "numerals['X']\n",
    "numerals['I'] = 1\n",
    "numerals['L'] = 50  #添加一个新的键值对\n",
    "print(numerals)\n",
    "print(sum(numerals.values()))\n",
    "\n",
    "# 键值对列表转为字典\n",
    "print (dict([(3, 9), (4, 16), (5, 25)]))\n",
    "\n",
    "# get\n",
    "print ( numerals.get('A', 0) )\n",
    "print ( numerals.get('V', 0) )\n",
    "\n",
    "# \n",
    "{x: x * x for x in range(3, 7)}"
   ]
  },
  {
   "cell_type": "markdown",
   "metadata": {},
   "source": [
    "非本地分配"
   ]
  },
  {
   "cell_type": "code",
   "execution_count": 57,
   "metadata": {},
   "outputs": [
    {
     "name": "stdout",
     "output_type": "stream",
     "text": [
      "15\n",
      "12\n",
      "0\n"
     ]
    }
   ],
   "source": [
    "# nonlocal 的使用\n",
    "def make_withdraw(balance):\n",
    "    def withdraw(amount):\n",
    "        nonlocal balance\n",
    "        if amount > balance:\n",
    "            return 'Insufficient funds'\n",
    "        balance = balance - amount\n",
    "        return balance\n",
    "    return withdraw\n",
    "\n",
    "wd = make_withdraw(20)\n",
    "print (wd(5))   # 20 - 5\n",
    "print (wd(3))   # 15 - 3\n",
    "\n",
    "wd2 = make_withdraw(8)\n",
    "print (wd2(8))"
   ]
  },
  {
   "cell_type": "markdown",
   "metadata": {},
   "source": [
    "Implementing Lists and Dictionaries"
   ]
  },
  {
   "cell_type": "code",
   "execution_count": 58,
   "metadata": {},
   "outputs": [
    {
     "name": "stdout",
     "output_type": "stream",
     "text": [
      "<class 'function'>\n",
      "heart, diamond, spade, club\n",
      "diamond, spade, club\n"
     ]
    }
   ],
   "source": [
    "def mutable_link():\n",
    "    \"\"\"返回可变链表的功能实现:len, getitem, push_first, pop_first, str\"\"\"\n",
    "    contents = empty\n",
    "    def dispatch(message, value = None):\n",
    "        nonlocal contents\n",
    "        if message == 'len':\n",
    "            return len_link(contents)\n",
    "        elif message == 'getitem':\n",
    "            return getitem_link(contents, value)\n",
    "        elif message == 'push_first':\n",
    "            contents = link(value, contents)\n",
    "        elif message == 'pop_first':\n",
    "            f = first(contents)\n",
    "            contents = rest(contents)\n",
    "            return f\n",
    "        elif message == 'str':\n",
    "            return join_link(contents, \", \")\n",
    "    return dispatch\n",
    "\n",
    "def to_mutable_link(source):\n",
    "    s = mutable_link()\n",
    "    for element in reversed(source):\n",
    "        s('push_first', element)\n",
    "    return s\n",
    "\n",
    "suits = ['heart', 'diamond', 'spade', 'club']\n",
    "s = to_mutable_link(suits)\n",
    "print (type(s))\n",
    "print (s('str'))\n",
    "s('pop_first')\n",
    "print (s('str'))"
   ]
  },
  {
   "cell_type": "code",
   "execution_count": 59,
   "metadata": {},
   "outputs": [
    {
     "name": "stdout",
     "output_type": "stream",
     "text": [
      "9\n",
      "16\n"
     ]
    }
   ],
   "source": [
    "# python内置字典的实现方式的效率远超下列实现方式\n",
    "def dictionary():\n",
    "    \"\"\"实现字典\"\"\"\n",
    "    records = []\n",
    "    def getitem(key):\n",
    "        matches = [r for r in records if r[0] == key]\n",
    "        if len(matches) == 1:\n",
    "            key, value = matches[0]\n",
    "            return value\n",
    "    def setitem(key, value):\n",
    "        nonlocal records\n",
    "        non_matches = [r for r in records if r[0]!= key]\n",
    "        records = non_matches + [[key, value]]\n",
    "    def dispatch(message, key=None, value=None):\n",
    "        if message == 'getitem':\n",
    "            return getitem(key)\n",
    "        elif message == 'setitem':\n",
    "            setitem(key, value)\n",
    "    return dispatch\n",
    "d = dictionary()\n",
    "d('setitem', 3, 9)\n",
    "d('setitem', 4, 16)\n",
    "\n",
    "print(d('getitem', 3))\n",
    "print(d('getitem', 4))"
   ]
  },
  {
   "cell_type": "code",
   "execution_count": 60,
   "metadata": {},
   "outputs": [
    {
     "name": "stdout",
     "output_type": "stream",
     "text": [
      "25\n",
      "8\n",
      "8\n"
     ]
    }
   ],
   "source": [
    "def account(initial_balance):\n",
    "    def deposit(amount):\n",
    "        dispatch['balance'] += amount\n",
    "        return dispatch['balance']\n",
    "    def withdraw(amount):\n",
    "        if amount > dispatch['balance']:\n",
    "            return 'Insufficient funds'\n",
    "        dispatch['balance'] -= amount\n",
    "        return dispatch['balance']\n",
    "    dispatch = {'deposit': deposit,\n",
    "                'withdraw': withdraw,\n",
    "                'balance': initial_balance}\n",
    "    return dispatch\n",
    "\n",
    "def withdraw(account, amount):\n",
    "    return account['withdraw'](amount)\n",
    "\n",
    "def deposit(account, amount):\n",
    "    return account['deposit'](amount)\n",
    "\n",
    "def check_balance(account):\n",
    "    return account['balance']\n",
    "\n",
    "a = account(20)\n",
    "print (deposit(a, 5))\n",
    "print (withdraw(a, 17))\n",
    "print (check_balance(a))"
   ]
  },
  {
   "cell_type": "code",
   "execution_count": 61,
   "metadata": {},
   "outputs": [],
   "source": [
    "from email.errors import NonASCIILocalPartDefect\n",
    "from operator import add, sub, mul, truediv\n",
    "\n",
    "def adder(a, b, c):\n",
    "    \"\"\"加法器: a + b = c\"\"\"\n",
    "    return make_ternary_constraint(a, b, c, add, sub, sub)\n",
    "\n",
    "def make_ternary_constraint(a, b, c, ab, ca, cb):\n",
    "    def new_value():\n",
    "        av, bv, cv = [connector['has_val']() for connector in (a, b, c)]\n",
    "        if av and bv:\n",
    "            c['set_val'](constraint, ab(a['val'], b['val']))\n",
    "        elif av and cv:\n",
    "            b['set_val'](constraint, ca(c['val'], a['val']))\n",
    "        elif bv and cv:\n",
    "            a['set_val'](constraint, cb(c['val'], b['val']))\n",
    "    def forget_value():\n",
    "        for connector in (a, b, c):\n",
    "            connector['forget'](constraint)\n",
    "    constraint = {'new_val': new_value, 'forget': forget_value}\n",
    "    for connector in (a, b, c):\n",
    "        connector['connect'](constraint)\n",
    "    return constraint\n",
    "\n",
    "def multiplier(a, b, c):\n",
    "    \"\"\" a * b = c\"\"\"\n",
    "    return make_ternary_constraint(a, b, c, mul, truediv, truediv)\n",
    "\n",
    "def constant(connector, value):\n",
    "    \"\"\"connector = value\"\"\"\n",
    "    constraint = []\n",
    "    connector['set_val'](constraint, value)\n",
    "    return constraint\n",
    "\n",
    "def connector(name = None):\n",
    "    \"\"\"connector between constraints\"\"\"\n",
    "    informant = None\n",
    "    constraints = []\n",
    "    def set_value(source, value):\n",
    "        nonlocal informant\n",
    "        val = connector['val']\n",
    "        if val is None:\n",
    "            informant, connector['val'] = source, value\n",
    "            if name is not None:\n",
    "                print(name, '=', value)\n",
    "            inform_all_except(source, 'new_val', constraints)\n",
    "        else:\n",
    "            if val != value:\n",
    "                print('Contradiciton detected:', val, 'vs', value)\n",
    "    def forget_value(source):\n",
    "        nonlocal informant\n",
    "        if informant == source:\n",
    "            informant, connector['val'] = None, None\n",
    "            if name is not None:\n",
    "                print(name, 'is forgotten')\n",
    "            inform_all_except(source, 'forget', constraints)\n",
    "    connector = {'val': None,\n",
    "                 'set_val' : set_value,\n",
    "                 'forget': forget_value,\n",
    "                 'has_val': lambda: connector['val'] is not None,\n",
    "                 'connect': lambda source: constraints.append(source)}\n",
    "    return connector\n",
    "\n",
    "def inform_all_except(source, message, constraints):\n",
    "    for c in constraints:\n",
    "        if c != source:\n",
    "            c[message]()"
   ]
  },
  {
   "cell_type": "markdown",
   "metadata": {},
   "source": [
    "## 类与对象"
   ]
  },
  {
   "cell_type": "code",
   "execution_count": 62,
   "metadata": {},
   "outputs": [
    {
     "name": "stdout",
     "output_type": "stream",
     "text": [
      "0 Kirk\n",
      "[0, 200]\n",
      "True\n",
      "True\n"
     ]
    }
   ],
   "source": [
    "# __init__ : 构造函数\n",
    "class Account:\n",
    "    def __init__(self, account_holder):\n",
    "        self.balance = 0\n",
    "        self.holder = account_holder\n",
    "a = Account('Kirk')\n",
    "print(a.balance, a.holder)\n",
    "\n",
    "b = Account('Spock')\n",
    "b.balance = 200\n",
    "print ([acc.balance for acc in (a, b)])\n",
    "\n",
    "print ( a is not b )\n",
    "\n",
    "c = a \n",
    "print (c is a)"
   ]
  },
  {
   "cell_type": "markdown",
   "metadata": {},
   "source": [
    "对象方法也由类语句套件中的 def 语句定义。下面，存款和取款都被定义为 Account 类对象的方法。"
   ]
  },
  {
   "cell_type": "code",
   "execution_count": 63,
   "metadata": {},
   "outputs": [
    {
     "data": {
      "text/plain": [
       "'Insufficient funds'"
      ]
     },
     "execution_count": 63,
     "metadata": {},
     "output_type": "execute_result"
    }
   ],
   "source": [
    "class Account:\n",
    "    # constructor\n",
    "    def __init__(self, account_holder):\n",
    "        self.balance = 0\n",
    "        self.holder = account_holder\n",
    "    # Methods\n",
    "    def deposit(self, amount):\n",
    "        self.balance = self.balance + amount\n",
    "        return self.balance\n",
    "    def withdraw(self, amount):\n",
    "        if amount > self.balance:\n",
    "            return \"Insufficient funds\"\n",
    "        self.balance = self.balance - amount\n",
    "        return self.balance\n",
    "\n",
    "spock_account = Account('Spock')\n",
    "spock_account.deposit(100)\n",
    "spock_account.withdraw(200)"
   ]
  },
  {
   "cell_type": "code",
   "execution_count": 64,
   "metadata": {},
   "outputs": [
    {
     "name": "stdout",
     "output_type": "stream",
     "text": [
      "100\n",
      "True\n",
      "<class 'function'>\n",
      "<class 'method'>\n",
      "1101\n",
      "2101\n"
     ]
    }
   ],
   "source": [
    "# 内置函数\n",
    "print (getattr(spock_account, 'balance'))  # getattr behaves exactly like dot notation\n",
    "print (hasattr(spock_account, 'deposit'))\n",
    "\n",
    "# function 与 method 的区别\n",
    "print (type(Account.deposit))\n",
    "print (type(spock_account.deposit))\n",
    "\n",
    "# call deposit in two ways: as a function and as a bound method\n",
    "print (Account.deposit(spock_account, 1001))     #2个参数\n",
    "print (spock_account.deposit(1000))              #1个参数"
   ]
  },
  {
   "cell_type": "markdown",
   "metadata": {},
   "source": [
    "类的属性"
   ]
  },
  {
   "cell_type": "code",
   "execution_count": 65,
   "metadata": {},
   "outputs": [
    {
     "name": "stdout",
     "output_type": "stream",
     "text": [
      "0.02 0.02\n",
      "0.04 0.04\n",
      "0.04 0.08\n",
      "0.09 0.08\n"
     ]
    }
   ],
   "source": [
    "class Account:\n",
    "    interests = 0.02\n",
    "    def __init__(self, account_holder):\n",
    "        self.balance = 0\n",
    "        self.holder = account_holder\n",
    "spock_account = Account('Spock')\n",
    "kirk_account = Account('Kirk')\n",
    "print (spock_account.interests, kirk_account.interests)\n",
    "\n",
    "# 给类的属性赋值\n",
    "Account.interests = 0.04\n",
    "print (spock_account.interests, kirk_account.interests)\n",
    "\n",
    "kirk_account.interests = 0.08\n",
    "print (spock_account.interests, kirk_account.interests)\n",
    "\n",
    "Account.interests = 0.09\n",
    "print (spock_account.interests, kirk_account.interests)"
   ]
  },
  {
   "cell_type": "markdown",
   "metadata": {},
   "source": [
    "父类 子类 类的继承\n",
    "\n",
    "子类继承其基类的属性，但可以覆盖某些属性，包括某些方法。通过继承，我们只指定子类和基类之间的不同之处。我们在子类中未指定的任何内容都会自动假定其行为与基类相同。"
   ]
  },
  {
   "cell_type": "code",
   "execution_count": 66,
   "metadata": {},
   "outputs": [
    {
     "name": "stdout",
     "output_type": "stream",
     "text": [
      "10\n",
      "4\n",
      "0.01\n"
     ]
    }
   ],
   "source": [
    "class Account:\n",
    "    interest = 0.02\n",
    "    # constructor\n",
    "    def __init__(self, account_holder):\n",
    "        self.balance = 0\n",
    "        self.holder = account_holder\n",
    "    # Methods\n",
    "    def deposit(self, amount):\n",
    "        self.balance = self.balance + amount\n",
    "        return self.balance\n",
    "    def withdraw(self, amount):\n",
    "        if amount > self.balance:\n",
    "            return \"Insufficient funds\"\n",
    "        self.balance = self.balance - amount\n",
    "        return self.balance\n",
    "    \n",
    "class CheckingAccount(Account):\n",
    "    \"\"\"收取提款费用\"\"\"\n",
    "    withdraw_charge = 1\n",
    "    interest = 0.01\n",
    "    def withdraw(self, amount):\n",
    "        return Account.withdraw(self, amount + self.withdraw_charge)\n",
    "\n",
    "checking = CheckingAccount('Sam')\n",
    "print(checking.deposit(10))\n",
    "print(checking.withdraw(5))\n",
    "print(checking.interest)\n",
    "\n",
    "def deposit_all(winners, amount=5):\n",
    "    for account in winners:\n",
    "        account.deposit(amount)"
   ]
  },
  {
   "cell_type": "markdown",
   "metadata": {},
   "source": [
    "### Multiple Inheritance\n",
    "\n",
    "Python 支持子类从多个基类继承属性的概念，这种语言特性称为多重继承。"
   ]
  },
  {
   "cell_type": "code",
   "execution_count": 67,
   "metadata": {},
   "outputs": [
    {
     "name": "stdout",
     "output_type": "stream",
     "text": [
      "1\n",
      "19\n",
      "13\n",
      "2\n",
      "1\n",
      "['AsSeenOnTvAccount', 'CheckingAccount', 'SavingAccount', 'Account', 'object']\n"
     ]
    }
   ],
   "source": [
    "class SavingAccount(Account):\n",
    "    deposit_charge = 2\n",
    "    def deposit(self, amount):\n",
    "        return Account.deposit(self, amount - self.deposit_charge)\n",
    "\n",
    "# 多重继承\n",
    "class AsSeenOnTvAccount(CheckingAccount, SavingAccount):\n",
    "    def __init__(self, account_holder):\n",
    "        self.holder = account_holder\n",
    "        self.balance = 1\n",
    "\n",
    "such_a_deal = AsSeenOnTvAccount('John')\n",
    "print(such_a_deal.balance)\n",
    "print(such_a_deal.deposit(20))\n",
    "print(such_a_deal.withdraw(5))\n",
    "\n",
    "print(such_a_deal.deposit_charge)\n",
    "print(such_a_deal.withdraw_charge)\n",
    "\n",
    "# 查找Method的顺序\n",
    "print([c.__name__ for c in AsSeenOnTvAccount.mro()])\n"
   ]
  },
  {
   "cell_type": "markdown",
   "metadata": {},
   "source": [
    "The precise algorithm for finding method resolution orderings is not a topic for this text, but is described by Python's primary author(http://python-history.blogspot.com/2010/06/method-resolution-order.html) with a reference to the original paper."
   ]
  },
  {
   "cell_type": "markdown",
   "metadata": {},
   "source": [
    "### 实现类和对象\n",
    "\n",
    "我们基于字典构建的对象系统在实现上与 Python 中的内置对象系统非常相似。在Python中，任何用户定义类的实例都有一个特殊的属性`__dict__`，它将该对象的本地实例属性存储在字典中，就像我们的属性字典一样。 Python 的不同之处在于它区分了某些与内置函数交互的特殊方法，以确保这些函数对于许多不同类型的参数能够正确运行。对不同类型进行操作的函数是下一节的主题。\n",
    "\n",
    "在 Python 中，`locals()` 是一个内置函数，它返回一个包含当前局部符号表的字典。局部符号表包含了在函数中定义的局部变量、参数以及其他可以在当前函数作用域内访问的符号。这个函数通常在需要动态地访问或修改局部变量的情况下使用。\n",
    "\n",
    "在你的代码中，`locals()` 被用在 `make_class` 函数的调用中，如在 `make_account_class` 和 `make_checking_account_class` 函数内。这里，`locals()` 被用来捕获包含类的方法和属性的局部变量，使它们成为类的一部分。这是一种动态创建类的方法，类似于其他面向对象语言中的反射或元编程特性。\n",
    "\n",
    "例如，在 `make_account_class` 函数中：\n",
    "\n",
    "```python\n",
    "def make_account_class():\n",
    "    \"\"\"使用类和对象\"\"\"\n",
    "    interest = 0.02\n",
    "    def __init__(self, account_holder):\n",
    "        self['set']('holder', account_holder)\n",
    "        self['set']('balance', 0)\n",
    "    def deposit(self, amount):\n",
    "        new_balance = self['get']('balance') + amount\n",
    "        self['set']('balance', new_balance)\n",
    "        return self['get']('balance')\n",
    "    def withdraw(self, amount):\n",
    "        balance = self['get']('balance')\n",
    "        if amount > balance:\n",
    "            return 'Insuffient funds'\n",
    "        self['set']('balance', balance - amount)\n",
    "        return self['get']('balance')\n",
    "    return make_class(locals())\n",
    "```\n",
    "\n",
    "在这段代码里，`locals()` 将会捕获局部变量 `interest`、函数 `__init__`、`deposit` 和 `withdraw`。它们作为字典的形式传递给 `make_class` 函数，使得这些属性和方法成为新创建的类的一部分。\n",
    "\n",
    "这种方法使得类的定义非常动态和灵活，但也可能使得代码难以理解和维护，特别是对于不熟悉这种技术的开发者。这种方式在某些动态创建类和对象的高级用途中很有用，比如在框架开发中实现某些特性时。s"
   ]
  },
  {
   "cell_type": "code",
   "execution_count": 2,
   "metadata": {},
   "outputs": [
    {
     "name": "stdout",
     "output_type": "stream",
     "text": [
      "Kirk\n",
      "0.02\n",
      "20\n",
      "15\n",
      "Spock\n",
      "0.01\n",
      "20\n",
      "14\n"
     ]
    }
   ],
   "source": [
    "from attr import attributes\n",
    "\n",
    "def make_instance(cls):\n",
    "    \"\"\"return a new object instance, which is a dispatch dictionary\"\"\"\n",
    "    def get_value(name):\n",
    "        if name in attributes:\n",
    "            return attributes[name]\n",
    "        else:\n",
    "            value = cls['get'](name)\n",
    "            return bind_method(value, instance)\n",
    "    def set_value(name, value):\n",
    "        attributes[name] = value\n",
    "    attributes = {}\n",
    "    instance = {'get': get_value, 'set': set_value}\n",
    "    return instance\n",
    "\n",
    "def bind_method(value, instance):\n",
    "    if callable(value):\n",
    "        def method(*args):\n",
    "            return value(instance, *args)\n",
    "        return method\n",
    "    else:\n",
    "        return value\n",
    "\n",
    "def make_class(attributes, base_class = None):\n",
    "    \"\"\"返回一个新类\"\"\"\n",
    "    def get_value(name):\n",
    "        if name in attributes:\n",
    "            return attributes[name]\n",
    "        elif base_class is not None:\n",
    "            return base_class['get'](name)\n",
    "    def set_value(name, value):\n",
    "        attributes[name] = value\n",
    "    def new(*args):\n",
    "        return init_instance(cls, *args)\n",
    "    cls = {'get': get_value, 'set': set_value, 'new': new}\n",
    "    return cls\n",
    "\n",
    "def init_instance(cls, *args):\n",
    "    \"\"\"返回一个 cls 类型的新对象，并使用 args 进行初始化。\"\"\"\n",
    "    instance = make_instance(cls)\n",
    "    init = cls['get']('__init__')\n",
    "    if init:\n",
    "        init(instance, *args)\n",
    "    return instance\n",
    "\n",
    "def make_account_class():\n",
    "    \"\"\"使用类和对象\"\"\"\n",
    "    interest = 0.02\n",
    "    def __init__(self, account_holder):\n",
    "        self['set']('holder', account_holder)\n",
    "        self['set']('balance', 0)\n",
    "    def deposit(self, amount):\n",
    "        new_balance = self['get']('balance') + amount\n",
    "        self['set']('balance', new_balance)\n",
    "        return self['get']('balance')\n",
    "    def withdraw(self, amount):\n",
    "        balance = self['get']('balance')\n",
    "        if amount > balance:\n",
    "            return 'Insuffient funds'\n",
    "        self['set']('balance', balance - amount)\n",
    "        return self['get']('balance')\n",
    "    return make_class(locals())\n",
    "\n",
    "Account = make_account_class()\n",
    "kirk_account = Account['new']('Kirk')\n",
    "\n",
    "print(kirk_account['get']('holder'))\n",
    "print(kirk_account['get']('interest'))\n",
    "print(kirk_account['get']('deposit')(20))\n",
    "print(kirk_account['get']('withdraw')(5))\n",
    "\n",
    "# 实现继承\n",
    "def make_checking_account_class():\n",
    "    \"\"\"have withdraw fee\"\"\"\n",
    "    interest = 0.01\n",
    "    withdraw_fee = 1\n",
    "    def withdraw(self, amount):\n",
    "        fee = self['get']('withdraw_fee')\n",
    "        return Account['get']('withdraw')(self, amount + fee)\n",
    "    return make_class(locals(), Account)\n",
    "\n",
    "CheckingAccount = make_checking_account_class()\n",
    "jack_acct = CheckingAccount['new']('Spock')\n",
    "\n",
    "print(jack_acct['get']('holder'))\n",
    "print(jack_acct['get']('interest'))\n",
    "print(jack_acct['get']('deposit')(20))\n",
    "print(jack_acct['get']('withdraw')(5))"
   ]
  },
  {
   "cell_type": "markdown",
   "metadata": {},
   "source": [
    "## 对象抽象\n",
    "\n",
    "泛型函数：我们将考虑实现泛型函数的三种不同技术：共享接口、类型分派和类型强制。"
   ]
  },
  {
   "cell_type": "code",
   "execution_count": 4,
   "metadata": {},
   "outputs": [
    {
     "name": "stdout",
     "output_type": "stream",
     "text": [
      "Help on built-in function repr in module builtins:\n",
      "\n",
      "repr(obj, /)\n",
      "    Return the canonical string representation of the object.\n",
      "    \n",
      "    For many object types, including most builtins, eval(repr(obj)) == obj.\n",
      "\n"
     ]
    },
    {
     "data": {
      "text/plain": [
       "'12000000000000.0'"
      ]
     },
     "execution_count": 4,
     "metadata": {},
     "output_type": "execute_result"
    }
   ],
   "source": [
    "help(repr)\n",
    "repr(12e12)"
   ]
  },
  {
   "cell_type": "code",
   "execution_count": 6,
   "metadata": {},
   "outputs": [
    {
     "name": "stdout",
     "output_type": "stream",
     "text": [
      "Point(1, 2)\n",
      "(1, 2)\n",
      "(1, 2)\n"
     ]
    }
   ],
   "source": [
    "class Point:\n",
    "    def __init__(self, x, y):\n",
    "        self.x = x\n",
    "        self.y = y\n",
    "\n",
    "    def __repr__(self):\n",
    "        return f\"Point({self.x}, {self.y})\"\n",
    "\n",
    "    def __str__(self):\n",
    "        return f\"({self.x}, {self.y})\"\n",
    "\n",
    "pt = Point(1, 2)\n",
    "print(repr(pt))  # 输出: Point(1, 2)\n",
    "print(str(pt))   # 输出: (1, 2)\n",
    "print(pt)        # 默认情况下也是调用 str(pt)，输出: (1, 2)\n"
   ]
  },
  {
   "cell_type": "markdown",
   "metadata": {},
   "source": [
    "如果不存在可计算出原始值的表示形式，Python 通常会生成用尖括号括起来的描述。"
   ]
  },
  {
   "cell_type": "code",
   "execution_count": 12,
   "metadata": {},
   "outputs": [
    {
     "name": "stdout",
     "output_type": "stream",
     "text": [
      "<built-in function min>\n",
      "2011-09-12\n",
      "datetime.date(2011, 9, 12)\n",
      "2011-09-12\n",
      "datetime.date(2011, 9, 12)\n",
      "2011-09-12\n"
     ]
    }
   ],
   "source": [
    "print(repr(min))\n",
    "\n",
    "from datetime import date\n",
    "tue = date(2011, 9, 12)\n",
    "print(tue)\n",
    "print(repr(tue))\n",
    "print(str(tue))\n",
    "\n",
    "print(tue.__repr__())\n",
    "print(tue.__str__())"
   ]
  },
  {
   "cell_type": "markdown",
   "metadata": {},
   "source": [
    "### Special Methods\n",
    "在Python中，Python解释器在特殊情况下会调用某些特殊名称。例如，每当构造对象时，都会自动调用类的 `__init__` 方法。打印时自动调用 `__str__` 方法，并在交互式会话中调用 `__repr__` 来显示值。\n",
    "\n",
    "常用的特殊方法：\n",
    "`__bool__`     `len`  `__getitem__`"
   ]
  },
  {
   "cell_type": "code",
   "execution_count": 15,
   "metadata": {},
   "outputs": [
    {
     "name": "stdout",
     "output_type": "stream",
     "text": [
      "8\n",
      "B\n"
     ]
    }
   ],
   "source": [
    "print( 'Go Bears'.__len__())\n",
    "print('Go Bears'.__getitem__(3))"
   ]
  },
  {
   "cell_type": "markdown",
   "metadata": {},
   "source": [
    "`__call__`方法"
   ]
  },
  {
   "cell_type": "code",
   "execution_count": 19,
   "metadata": {},
   "outputs": [
    {
     "name": "stdout",
     "output_type": "stream",
     "text": [
      "7\n",
      "7\n"
     ]
    }
   ],
   "source": [
    "class Adder(object):\n",
    "    def __init__(self, n):\n",
    "        self.n = n \n",
    "    def __call__(self, k):\n",
    "        return self.n + k\n",
    "\n",
    "add_three_obj = Adder(3)\n",
    "print(add_three_obj(4))\n",
    "\n",
    "# 等价于下面函数的定义\n",
    "def make_adder(n):\n",
    "    def adder(k):\n",
    "        return n + k\n",
    "    return adder\n",
    "add_three= make_adder(3)\n",
    "print(add_three(4))"
   ]
  },
  {
   "cell_type": "markdown",
   "metadata": {},
   "source": [
    "More to read:\n",
    "\n",
    "https://docs.python.org/3/reference/datamodel.html#special-method-names\n",
    "\n",
    "http://getpython3.com/diveintopython3/special-method-names.html\n",
    "\n"
   ]
  },
  {
   "cell_type": "code",
   "execution_count": null,
   "metadata": {},
   "outputs": [],
   "source": []
  }
 ],
 "metadata": {
  "kernelspec": {
   "display_name": "d2l",
   "language": "python",
   "name": "python3"
  },
  "language_info": {
   "codemirror_mode": {
    "name": "ipython",
    "version": 3
   },
   "file_extension": ".py",
   "mimetype": "text/x-python",
   "name": "python",
   "nbconvert_exporter": "python",
   "pygments_lexer": "ipython3",
   "version": "3.9.16"
  }
 },
 "nbformat": 4,
 "nbformat_minor": 2
}
