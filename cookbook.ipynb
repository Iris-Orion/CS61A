{
 "cells": [
  {
   "cell_type": "code",
   "execution_count": 1,
   "metadata": {},
   "outputs": [],
   "source": [
    "# from urllib.request import urlopen\n",
    "\n",
    "# shakespeare = urlopen('http://composingprograms.com/shakespeare.txt')\n",
    "\n",
    "# words= set(shakespeare.read().decode().split())\n",
    "\n",
    "# w for w in words if len(w) == 6 and w[::-1] in words"
   ]
  },
  {
   "cell_type": "code",
   "execution_count": 2,
   "metadata": {},
   "outputs": [
    {
     "data": {
      "text/plain": [
       "-2"
      ]
     },
     "execution_count": 2,
     "metadata": {},
     "output_type": "execute_result"
    }
   ],
   "source": [
    "max(7.5, 9.5)\n",
    "pow(100, 2)\n",
    "pow(2, 100)\n",
    "max(1, -2, 3, -4)\n",
    "max(min(1, -2), min(pow(3, 5), -4))"
   ]
  },
  {
   "cell_type": "code",
   "execution_count": 3,
   "metadata": {},
   "outputs": [
    {
     "data": {
      "text/plain": [
       "16.0"
      ]
     },
     "execution_count": 3,
     "metadata": {},
     "output_type": "execute_result"
    }
   ],
   "source": [
    "from math import sqrt\n",
    "sqrt(256)"
   ]
  },
  {
   "cell_type": "code",
   "execution_count": 4,
   "metadata": {},
   "outputs": [
    {
     "data": {
      "text/plain": [
       "16"
      ]
     },
     "execution_count": 4,
     "metadata": {},
     "output_type": "execute_result"
    }
   ],
   "source": [
    "from operator import add, sub, mul\n",
    "add(14, 28)\n",
    "sub(100, mul(7, add(8, 4)))"
   ]
  },
  {
   "cell_type": "code",
   "execution_count": 5,
   "metadata": {},
   "outputs": [
    {
     "data": {
      "text/plain": [
       "1.0002380197528042"
      ]
     },
     "execution_count": 5,
     "metadata": {},
     "output_type": "execute_result"
    }
   ],
   "source": [
    "from math import pi\n",
    "pi * 71 / 223"
   ]
  },
  {
   "cell_type": "code",
   "execution_count": 6,
   "metadata": {},
   "outputs": [
    {
     "data": {
      "text/plain": [
       "3"
      ]
     },
     "execution_count": 6,
     "metadata": {},
     "output_type": "execute_result"
    }
   ],
   "source": [
    "f = max\n",
    "f(1, 2, 3)\n",
    "\n",
    "# max = 5\n",
    "# max(5, 4)\n",
    "# 运行即报错"
   ]
  },
  {
   "cell_type": "code",
   "execution_count": 7,
   "metadata": {},
   "outputs": [
    {
     "name": "stdout",
     "output_type": "stream",
     "text": [
      "4.5\n",
      "3\n"
     ]
    }
   ],
   "source": [
    "x, y = 3, 4.5\n",
    "y, x = x, y\n",
    "print(x)\n",
    "print(y)"
   ]
  },
  {
   "cell_type": "code",
   "execution_count": 8,
   "metadata": {},
   "outputs": [
    {
     "name": "stdout",
     "output_type": "stream",
     "text": [
      "1\n",
      "2\n",
      "None None\n"
     ]
    }
   ],
   "source": [
    "# print不是纯函数，其返回值是None\n",
    "print(print(1), print(2))"
   ]
  },
  {
   "cell_type": "code",
   "execution_count": 9,
   "metadata": {},
   "outputs": [
    {
     "data": {
      "text/plain": [
       "81"
      ]
     },
     "execution_count": 9,
     "metadata": {},
     "output_type": "execute_result"
    }
   ],
   "source": [
    "def square(x):\n",
    "    return mul(x, x)\n",
    "square(21)\n",
    "square(square(3))"
   ]
  },
  {
   "cell_type": "markdown",
   "metadata": {},
   "source": [
    "函数定义通常包含描述函数的文档，称为文档字符串，它必须与函数体一起缩进。文档字符串通常是三重引用的。第一行在一行中描述了该函数的工作。以下几行可以描述参数并阐明函数的行为："
   ]
  },
  {
   "cell_type": "code",
   "execution_count": 10,
   "metadata": {},
   "outputs": [
    {
     "name": "stdout",
     "output_type": "stream",
     "text": [
      "Help on function pressure in module __main__:\n",
      "\n",
      "pressure(v, t, n)\n",
      "    Compute the pressure in pascals of an ideal gas.\n",
      "    \n",
      "    Applies the ideal gas law: http://en.wikipedia.org/wiki/Ideal_gas_law\n",
      "    \n",
      "    v -- volume of gas, in cubic meters\n",
      "    t -- absolute temperature in degrees kelvin\n",
      "    n -- particles of gas\n",
      "\n"
     ]
    }
   ],
   "source": [
    "def pressure(v, t, n):\n",
    "        \"\"\"Compute the pressure in pascals of an ideal gas.\n",
    "\n",
    "        Applies the ideal gas law: http://en.wikipedia.org/wiki/Ideal_gas_law\n",
    "\n",
    "        v -- volume of gas, in cubic meters\n",
    "        t -- absolute temperature in degrees kelvin\n",
    "        n -- particles of gas\n",
    "        \"\"\"\n",
    "        k = 1.38e-23  # Boltzmann's constant\n",
    "        return n * k * t / v\n",
    "\n",
    "help(pressure)"
   ]
  },
  {
   "cell_type": "code",
   "execution_count": 11,
   "metadata": {},
   "outputs": [],
   "source": [
    "# 提供参数的默认值\n",
    "def pressure(v, t, n=6.022e23):\n",
    "        \"\"\"Compute the pressure in pascals of an ideal gas.\n",
    "\n",
    "        v -- volume of gas, in cubic meters\n",
    "        t -- absolute temperature in degrees kelvin\n",
    "        n -- particles of gas (default: one mole)\n",
    "        \"\"\"\n",
    "        k = 1.38e-23  # Boltzmann's constant\n",
    "        return n * k * t / v"
   ]
  },
  {
   "cell_type": "code",
   "execution_count": 12,
   "metadata": {},
   "outputs": [
    {
     "data": {
      "text/plain": [
       "True"
      ]
     },
     "execution_count": 12,
     "metadata": {},
     "output_type": "execute_result"
    }
   ],
   "source": [
    "0 == -0"
   ]
  },
  {
   "cell_type": "code",
   "execution_count": 13,
   "metadata": {},
   "outputs": [
    {
     "data": {
      "text/plain": [
       "13"
      ]
     },
     "execution_count": 13,
     "metadata": {},
     "output_type": "execute_result"
    }
   ],
   "source": [
    "def fib(n):\n",
    "    \"\"\" 斐波那契 \"\"\"\n",
    "    pred, curr = 0, 1\n",
    "    k = 2\n",
    "    while k < n:\n",
    "        pred, curr = curr, pred + curr\n",
    "        k = k + 1\n",
    "    return curr\n",
    "\n",
    "result = fib(8)\n",
    "result"
   ]
  },
  {
   "cell_type": "code",
   "execution_count": 14,
   "metadata": {},
   "outputs": [],
   "source": [
    "# 测试语句，将测试语句单独封装放在_test.py中\n",
    "def fib_test():\n",
    "    assert fib(2) == 1, 'The 2nd fibonacci number should be 1'"
   ]
  },
  {
   "cell_type": "markdown",
   "metadata": {},
   "source": [
    "Doctest\n",
    "\n",
    "Python 提供了一种方便的方法，可以将简单的测试直接放置在函数的文档字符串中。文档字符串的第一行应包含函数的单行描述，后跟一个空行。随后可能会详细描述参数和行为。此外，文档字符串可能包括调用该函数的示例交互式会话："
   ]
  },
  {
   "cell_type": "code",
   "execution_count": 15,
   "metadata": {},
   "outputs": [
    {
     "name": "stdout",
     "output_type": "stream",
     "text": [
      "Help on function sum_naturals in module __main__:\n",
      "\n",
      "sum_naturals(n)\n",
      "    计算前n个自然数的和 \n",
      "    >>> sum_naturals(10)\n",
      "    55\n",
      "    >>> sum_naturals(100)\n",
      "    5050\n",
      "\n"
     ]
    },
    {
     "data": {
      "text/plain": [
       "TestResults(failed=0, attempted=2)"
      ]
     },
     "execution_count": 15,
     "metadata": {},
     "output_type": "execute_result"
    }
   ],
   "source": [
    "def sum_naturals(n):\n",
    "    \"\"\" 计算前n个自然数的和 \n",
    "    >>> sum_naturals(10)\n",
    "    55\n",
    "    >>> sum_naturals(100)\n",
    "    5050\n",
    "    \"\"\"\n",
    "    total, k = 0, 1\n",
    "    while k <= n:\n",
    "        total, k = total + k, k + 1\n",
    "    return total\n",
    "\n",
    "help(sum_naturals)\n",
    "\n",
    "from doctest import testmod\n",
    "testmod()"
   ]
  },
  {
   "cell_type": "markdown",
   "metadata": {},
   "source": [
    "To verify the doctest interactions for only a single function, we use a `doctest` function called `run_docstring_examples`. This function is (unfortunately) a bit complicated to call. Its first argument is the function to test. The second should always be the result of the expression `globals()`, a built-in function that returns the global environment. The third argument is True to indicate that we would like \"verbose\" output: a catalog of all tests run."
   ]
  },
  {
   "cell_type": "code",
   "execution_count": 16,
   "metadata": {},
   "outputs": [
    {
     "name": "stdout",
     "output_type": "stream",
     "text": [
      "Finding tests in NoName\n",
      "Trying:\n",
      "    sum_naturals(10)\n",
      "Expecting:\n",
      "    55\n",
      "ok\n",
      "Trying:\n",
      "    sum_naturals(100)\n",
      "Expecting:\n",
      "    5050\n",
      "ok\n"
     ]
    }
   ],
   "source": [
    "from doctest import run_docstring_examples\n",
    "run_docstring_examples(sum_naturals, globals(), True)"
   ]
  },
  {
   "cell_type": "code",
   "execution_count": 17,
   "metadata": {},
   "outputs": [
    {
     "data": {
      "text/plain": [
       "36"
      ]
     },
     "execution_count": 17,
     "metadata": {},
     "output_type": "execute_result"
    }
   ],
   "source": [
    "# 高阶函数, 函数作为参数\n",
    "def summation(n, term):\n",
    "    total, k = 0, 1\n",
    "    while k <= n:\n",
    "        total, k = total + term(k), k + 1\n",
    "    return total\n",
    "\n",
    "def cube(x):\n",
    "    return x*x*x\n",
    "\n",
    "def sum_cubes(n):\n",
    "    return summation(n, cube)\n",
    "\n",
    "def identity(x):\n",
    "    return x\n",
    "\n",
    "def sum_naturals(n):\n",
    "    return summation(n, identity)\n",
    "\n",
    "result = sum_cubes(3)\n",
    "result"
   ]
  },
  {
   "cell_type": "code",
   "execution_count": 18,
   "metadata": {},
   "outputs": [
    {
     "data": {
      "text/plain": [
       "3.141592153589902"
      ]
     },
     "execution_count": 18,
     "metadata": {},
     "output_type": "execute_result"
    }
   ],
   "source": [
    "def pi_term(x):\n",
    "    return 8 / ((4 * x - 3) * (4 * x - 1))\n",
    "\n",
    "def pi_sum(n):\n",
    "    return summation(n, pi_term)\n",
    "\n",
    "# pi的近似\n",
    "pi_sum(1e6)"
   ]
  },
  {
   "attachments": {
    "image.png": {
     "image/png": "[encoded data removed]"
    }
   },
   "cell_type": "markdown",
   "metadata": {},
   "source": [
    "递归扩展来获得黄金比的连分数\n",
    "\n",
    "![image.png](attachment:image.png)"
   ]
  },
  {
   "cell_type": "code",
   "execution_count": 19,
   "metadata": {},
   "outputs": [],
   "source": [
    "# 黄金分割\n",
    "def improve(update, close, guess=1):\n",
    "    while not close(guess):\n",
    "        guess = update(guess)\n",
    "    return guess\n",
    "\n",
    "def golden_update(guess):\n",
    "    return 1 / guess + 1\n",
    "\n",
    "def square_close_to_successor(guess):\n",
    "    return approx_eq(guess * guess, guess + 1)\n",
    "\n",
    "def approx_eq(x, y, tolerance=1e-15):\n",
    "    return abs(x - y) < tolerance\n",
    "\n",
    "improve(golden_update, square_close_to_successor)\n",
    "\n",
    "# 精确闭式解\n",
    "from math import sqrt\n",
    "phi = 1 / 2 + sqrt(5) / 2\n",
    "def improve_test():\n",
    "    approx_phi = improve(golden_update, square_close_to_successor)\n",
    "    assert approx_eq(phi, approx_phi), 'phi differs from its approximation'\n",
    "\n",
    "improve_test()"
   ]
  },
  {
   "cell_type": "code",
   "execution_count": 20,
   "metadata": {},
   "outputs": [
    {
     "data": {
      "text/plain": [
       "16.00000352670594"
      ]
     },
     "execution_count": 20,
     "metadata": {},
     "output_type": "execute_result"
    }
   ],
   "source": [
    "# 嵌套定义\n",
    "def average(x, y):\n",
    "    return (x + y) / 2\n",
    "\n",
    "def improve(update, close, guess=1):\n",
    "    while not close(guess):\n",
    "        guess = update(guess)\n",
    "    return guess\n",
    "\n",
    "def approx_eq(x, y, tolerance=1e-3):\n",
    "    return abs(x - y) < tolerance\n",
    "\n",
    "def sqrt_appro(a):\n",
    "    def sqrt_update(x):\n",
    "        return average(x, a/x)\n",
    "    def sqrt_close(x):\n",
    "        return approx_eq(x * x, a)\n",
    "    return improve(sqrt_update, sqrt_close)\n",
    "sqrt_appro(256)"
   ]
  },
  {
   "cell_type": "code",
   "execution_count": 21,
   "metadata": {},
   "outputs": [
    {
     "data": {
      "text/plain": [
       "169"
      ]
     },
     "execution_count": 21,
     "metadata": {},
     "output_type": "execute_result"
    }
   ],
   "source": [
    "# return值为函数\n",
    "def compose1(f, g):\n",
    "    def h(x):\n",
    "        return f(g(x))\n",
    "    return h\n",
    "\n",
    "def square(x):\n",
    "    return x * x\n",
    "\n",
    "def successor(x):\n",
    "    return x + 1\n",
    "\n",
    "square_successor = compose1(square, successor)\n",
    "result = square_successor(12)\n",
    "result"
   ]
  },
  {
   "cell_type": "code",
   "execution_count": 22,
   "metadata": {},
   "outputs": [
    {
     "data": {
      "text/plain": [
       "4.000017449510739"
      ]
     },
     "execution_count": 22,
     "metadata": {},
     "output_type": "execute_result"
    }
   ],
   "source": [
    "def improve(update, close, guess=1):\n",
    "    while not close(guess):\n",
    "        guess = update(guess)\n",
    "    return guess\n",
    "\n",
    "def approx_eq(x, y, tolerance=1e-3):\n",
    "    return abs(x - y) < tolerance\n",
    "\n",
    "def newton_update(f, df):\n",
    "    def update(x):\n",
    "        return x - f(x) / df(x)\n",
    "    return update\n",
    "\n",
    "def find_zero(f, df):\n",
    "    def near_zero(x):\n",
    "        return approx_eq(f(x), 0)\n",
    "    return improve(newton_update(f, df), near_zero)\n",
    "\n",
    "def power(x, n):\n",
    "    product, k = 1, 0\n",
    "    while k < n:\n",
    "        product, k = product * x, k + 1\n",
    "    return product\n",
    "\n",
    "def nth_root_of_a(n, a):\n",
    "    def f(x):\n",
    "        return power(x, n) - a\n",
    "    def df(x):\n",
    "        return n * power(x, n-1)\n",
    "    return find_zero(f, df)\n",
    "\n",
    "nth_root_of_a(3, 64)"
   ]
  },
  {
   "cell_type": "code",
   "execution_count": 23,
   "metadata": {},
   "outputs": [
    {
     "name": "stdout",
     "output_type": "stream",
     "text": [
      "1\n",
      "2\n",
      "4\n",
      "8\n",
      "16\n",
      "32\n",
      "64\n",
      "128\n",
      "256\n",
      "512\n"
     ]
    }
   ],
   "source": [
    "def curried_pow(x):\n",
    "    def h(y):\n",
    "        return pow(x, y)\n",
    "    return h\n",
    "\n",
    "curried_pow(2)(3)\n",
    "\n",
    "def map_to_range(start, end, f):\n",
    "    while start < end:\n",
    "        print(f(start))\n",
    "        start = start + 1\n",
    "map_to_range(0, 10, curried_pow(2))"
   ]
  },
  {
   "cell_type": "code",
   "execution_count": 24,
   "metadata": {},
   "outputs": [
    {
     "name": "stdout",
     "output_type": "stream",
     "text": [
      "1\n",
      "2\n",
      "4\n",
      "8\n",
      "16\n",
      "32\n",
      "64\n",
      "128\n",
      "256\n",
      "512\n"
     ]
    }
   ],
   "source": [
    "def curry2(f):\n",
    "    def g(x):\n",
    "        def h(y):\n",
    "            return f(x, y)\n",
    "        return h\n",
    "    return g\n",
    "\n",
    "def uncurry(g):\n",
    "    def f(x, y):\n",
    "        return g(x)(y)\n",
    "    return f\n",
    "\n",
    "pow_curried = curry2(pow)\n",
    "pow_curried(2)(5)   # = 32\n",
    "map_to_range(0, 10, pow_curried(2))\n"
   ]
  },
  {
   "cell_type": "code",
   "execution_count": 25,
   "metadata": {},
   "outputs": [
    {
     "data": {
      "text/plain": [
       "32"
      ]
     },
     "execution_count": 25,
     "metadata": {},
     "output_type": "execute_result"
    }
   ],
   "source": [
    "uncurry(pow_curried)(2, 5)"
   ]
  },
  {
   "cell_type": "code",
   "execution_count": 26,
   "metadata": {},
   "outputs": [
    {
     "data": {
      "text/plain": [
       "144"
      ]
     },
     "execution_count": 26,
     "metadata": {},
     "output_type": "execute_result"
    }
   ],
   "source": [
    "s = lambda x: x * x\n",
    "s(12)"
   ]
  },
  {
   "cell_type": "code",
   "execution_count": 27,
   "metadata": {},
   "outputs": [
    {
     "data": {
      "text/plain": [
       "169"
      ]
     },
     "execution_count": 27,
     "metadata": {},
     "output_type": "execute_result"
    }
   ],
   "source": [
    "def compose1(f, g):\n",
    "    return lambda x: f(g(x))\n",
    "\n",
    "f = compose1(lambda x : x * x, lambda y : y + 1)\n",
    "\n",
    "f(12)"
   ]
  },
  {
   "cell_type": "markdown",
   "metadata": {},
   "source": [
    "在Python中，`@` 符号被称为装饰器（Decorator），它提供了一种简洁的语法来修改或增强函数或类的行为。装饰器允许你在不修改原始函数定义的情况下，对函数的行为进行包装或修改。\n",
    "\n",
    "在你的例子中，`@trace` 是一个装饰器，它被应用于函数 `triple` 上面。这意味着 `trace` 函数将会被调用，然后将函数 `triple` 作为参数传递给 `trace` 函数。`trace` 函数返回的结果（一个新的函数）将会替代原始的 `triple` 函数。\n",
    "\n",
    "在这个例子中，`trace` 函数接受一个函数 `fn` 作为参数，然后返回一个新的函数 `wrapped`。在 `wrapped` 函数内部，它首先会打印一条带有 `fn` 和参数 `x` 的消息，然后调用原始函数 `fn`，并将参数 `x` 传递给它。最后，`wrapped` 函数返回原始函数的结果。\n",
    "\n",
    "因此，当你调用 `triple(12)` 时，实际上会调用 `wrapped(12)`，而 `wrapped` 函数中会输出 `-> triple ( 12 )`，然后调用原始的 `triple` 函数，返回结果 `36`。"
   ]
  },
  {
   "cell_type": "code",
   "execution_count": 28,
   "metadata": {},
   "outputs": [
    {
     "name": "stdout",
     "output_type": "stream",
     "text": [
      "-> <function triple at 0x0000020D6B3F7700> ( 12 )\n"
     ]
    },
    {
     "data": {
      "text/plain": [
       "36"
      ]
     },
     "execution_count": 28,
     "metadata": {},
     "output_type": "execute_result"
    }
   ],
   "source": [
    "def trace(fn):\n",
    "    def wrapped(x):\n",
    "        print('->', fn, '(', x, ')')\n",
    "        return fn(x)\n",
    "    return wrapped\n",
    "\n",
    "@trace\n",
    "def triple(x):\n",
    "    return 3 * x\n",
    "\n",
    "triple(12)"
   ]
  },
  {
   "cell_type": "code",
   "execution_count": 29,
   "metadata": {},
   "outputs": [
    {
     "data": {
      "text/plain": [
       "126"
      ]
     },
     "execution_count": 29,
     "metadata": {},
     "output_type": "execute_result"
    }
   ],
   "source": [
    "# 递归\n",
    "def sum_digits(n):\n",
    "    \"\"\" 返回各位数字之和 \"\"\"\n",
    "    if n < 10:\n",
    "        return n\n",
    "    else:\n",
    "        all_but_last, last = n // 10, n % 10\n",
    "        return sum_digits(all_but_last) + last\n",
    "sum_digits(11408855402054064613470328848384)"
   ]
  },
  {
   "cell_type": "code",
   "execution_count": 30,
   "metadata": {},
   "outputs": [
    {
     "data": {
      "text/plain": [
       "True"
      ]
     },
     "execution_count": 30,
     "metadata": {},
     "output_type": "execute_result"
    }
   ],
   "source": [
    "# 相互递归\n",
    "def is_even(n):\n",
    "    if n == 0:\n",
    "        return True\n",
    "    else:\n",
    "        return is_odd(n-1)\n",
    "\n",
    "def is_odd(n):\n",
    "    if n == 0:\n",
    "        return False\n",
    "    else:\n",
    "        return is_even(n-1)\n",
    "\n",
    "is_even(4)"
   ]
  },
  {
   "cell_type": "code",
   "execution_count": 31,
   "metadata": {},
   "outputs": [
    {
     "data": {
      "text/plain": [
       "True"
      ]
     },
     "execution_count": 31,
     "metadata": {},
     "output_type": "execute_result"
    }
   ],
   "source": [
    "# 将互递归函数变成单个递归函数\n",
    "def is_even(n):\n",
    "    if n == 0:\n",
    "        return True\n",
    "    else:\n",
    "        if (n-1) == 0:\n",
    "            return False\n",
    "        else:\n",
    "            return is_even((n-1)-1)\n",
    "is_even(8)"
   ]
  },
  {
   "cell_type": "code",
   "execution_count": 32,
   "metadata": {},
   "outputs": [
    {
     "name": "stdout",
     "output_type": "stream",
     "text": [
      "2013\n",
      "201\n",
      "20\n",
      "2\n",
      "20\n",
      "201\n",
      "2013\n"
     ]
    }
   ],
   "source": [
    "def cascade(n):\n",
    "    print(n)\n",
    "    if n >= 10:\n",
    "        cascade(n // 10)\n",
    "        print(n)\n",
    "\n",
    "cascade(2013)"
   ]
  },
  {
   "cell_type": "code",
   "execution_count": 33,
   "metadata": {},
   "outputs": [
    {
     "data": {
      "text/plain": [
       "9"
      ]
     },
     "execution_count": 33,
     "metadata": {},
     "output_type": "execute_result"
    }
   ],
   "source": [
    "# 树回归\n",
    "# 6 = 2 + 4\n",
    "# 6 = 1 + 1 + 4\n",
    "# 6 = 3 + 3\n",
    "# 6 = 1 + 2 + 3\n",
    "# 6 = 1 + 1 + 1 + 3\n",
    "# 6 = 2 + 2 + 2\n",
    "# 6 = 1 + 1 + 2 + 2\n",
    "# 6 = 1 + 1 + 1 + 1 + 2\n",
    "# 6 = 1 + 1 + 1 + 1 + 1 + 1\n",
    "def count_partitions(n, m):\n",
    "    if n == 0:\n",
    "        return 1\n",
    "    elif n < 0:\n",
    "        return 0\n",
    "    elif m == 0:\n",
    "        return 0\n",
    "    else :\n",
    "        return count_partitions(n-m, m) + count_partitions(n, m-1)\n",
    "\n",
    "count_partitions(6, 4)"
   ]
  },
  {
   "cell_type": "markdown",
   "metadata": {},
   "source": [
    "Python 包含三种原生数值类型：整数 (int)、实数 (float) 和复数 (complex)。"
   ]
  },
  {
   "cell_type": "code",
   "execution_count": 34,
   "metadata": {},
   "outputs": [
    {
     "data": {
      "text/plain": [
       "complex"
      ]
     },
     "execution_count": 34,
     "metadata": {},
     "output_type": "execute_result"
    }
   ],
   "source": [
    "type(1+2j)"
   ]
  },
  {
   "cell_type": "markdown",
   "metadata": {},
   "source": [
    "## Data Abstraction"
   ]
  },
  {
   "cell_type": "code",
   "execution_count": 35,
   "metadata": {},
   "outputs": [
    {
     "name": "stdout",
     "output_type": "stream",
     "text": [
      "1 / 6\n",
      "2 / 3\n"
     ]
    }
   ],
   "source": [
    "# 表示有理数，而不是使用内置数据格式表示\n",
    "from math import gcd\n",
    "def rational(n, d):\n",
    "    g = gcd(n, d)    # 最大公约数  greatest common denominator\n",
    "    return [n // g, d // g]\n",
    "\n",
    "def numer(x):\n",
    "    return x[0]\n",
    "\n",
    "def denom(x):\n",
    "    return x[1]\n",
    "\n",
    "def print_rational(x):\n",
    "    print(numer(x), '/', denom(x))\n",
    "\n",
    "def add_rationals(x, y):\n",
    "    \"\"\"\n",
    "    有理数相加\n",
    "    \"\"\"\n",
    "    nx, dx = numer(x), denom(y)\n",
    "    ny, dy = numer(y), denom(y)\n",
    "    return rational(nx * dy + ny * dx, dx * dy)\n",
    "\n",
    "def mul_rationals(x, y):\n",
    "    return rational(numer(x) * numer(y), denom(x) * denom(y))\n",
    "\n",
    "def rationals_are_equal(x, y):\n",
    "    return numer(x) * denom(y) == numer(y) * denom(x)\n",
    "\n",
    "half = rational(1, 2)\n",
    "third = rational(1, 3)\n",
    "\n",
    "print_rational(mul_rationals(half, third))\n",
    "print_rational(add_rationals(third, third))"
   ]
  },
  {
   "cell_type": "code",
   "execution_count": 1,
   "metadata": {},
   "outputs": [
    {
     "data": {
      "text/plain": [
       "20"
      ]
     },
     "execution_count": 1,
     "metadata": {},
     "output_type": "execute_result"
    }
   ],
   "source": [
    "def pair(x, y):\n",
    "    def get(index):\n",
    "        if index == 0:\n",
    "            return x\n",
    "        elif index == 1:\n",
    "            return y\n",
    "    return get\n",
    "\n",
    "def select(p, i):\n",
    "    return p(i)\n",
    "\n",
    "p = pair(20, 14)\n",
    "select(p, 0)"
   ]
  },
  {
   "cell_type": "code",
   "execution_count": 37,
   "metadata": {},
   "outputs": [
    {
     "data": {
      "text/plain": [
       "2"
      ]
     },
     "execution_count": 37,
     "metadata": {},
     "output_type": "execute_result"
    }
   ],
   "source": [
    "# sequence unpacking\n",
    "pairs = [[1, 2], [2, 2], [2, 3], [4, 4]]\n",
    "same_count = 0\n",
    "for x, y in pairs:\n",
    "    if x == y:\n",
    "        same_count = same_count + 1\n",
    "same_count"
   ]
  },
  {
   "cell_type": "code",
   "execution_count": 3,
   "metadata": {},
   "outputs": [
    {
     "name": "stdout",
     "output_type": "stream",
     "text": [
      "go cs61A\n",
      "go cs61A\n",
      "go cs61A\n"
     ]
    }
   ],
   "source": [
    "for _ in range(3):\n",
    "    print(\"go cs61A\")"
   ]
  },
  {
   "cell_type": "markdown",
   "metadata": {},
   "source": [
    "### 列表表达式\n",
    "The general form of a list comprehension is:\n",
    "\n",
    "`[<map expression> for <name> in <sequence expression> if <filter expression>]`\n",
    "\n",
    "为了计算列表推导式，Python 计算 `<sequence expression>`，它必须返回一个可迭代的值。然后，对于按顺序排列的每个元素，元素值绑定到 `<name>`，对过滤表达式进行求值，如果它产生真值，则对映射表达式进行求值。映射表达式的值被收集到一个列表中。"
   ]
  },
  {
   "cell_type": "code",
   "execution_count": 6,
   "metadata": {},
   "outputs": [
    {
     "name": "stdout",
     "output_type": "stream",
     "text": [
      "[2, 4, 6, 8, 10]\n",
      "[1, 5]\n"
     ]
    }
   ],
   "source": [
    "odds = [1, 3, 5, 7, 9]\n",
    "print([x + 1 for x in odds])\n",
    "print([x for x in odds if 25 % x == 0])"
   ]
  },
  {
   "cell_type": "code",
   "execution_count": 10,
   "metadata": {},
   "outputs": [
    {
     "name": "stdout",
     "output_type": "stream",
     "text": [
      "[1, 6, 28, 496]\n"
     ]
    },
    {
     "data": {
      "text/plain": [
       "36"
      ]
     },
     "execution_count": 10,
     "metadata": {},
     "output_type": "execute_result"
    }
   ],
   "source": [
    "def divisors(n):\n",
    "    return [1] + [x for x in range(2, n) if n % x == 0]\n",
    "\n",
    "# 计算完美数：完美数 = 其除数之和的正整数\n",
    "print([n for n in range(1, 1000) if sum(divisors(n)) == n])\n",
    "\n",
    "# 在给定面积的情况下找到具有整数边长的矩形的最小周长。\n",
    "def width(area, height):\n",
    "    assert area % height == 0\n",
    "    return area // height\n",
    "\n",
    "def perimeter(width, height):\n",
    "    return 2 * width + 2 * height\n",
    "\n",
    "def minimum_perimeter(area):\n",
    "    heights = divisors(area)\n",
    "    perimeters = [perimeter(width(area, h), h) for h in heights]\n",
    "    return min(perimeters)\n",
    "\n",
    "minimum_perimeter(80)"
   ]
  },
  {
   "cell_type": "code",
   "execution_count": null,
   "metadata": {},
   "outputs": [],
   "source": []
  }
 ],
 "metadata": {
  "kernelspec": {
   "display_name": "d2l",
   "language": "python",
   "name": "python3"
  },
  "language_info": {
   "codemirror_mode": {
    "name": "ipython",
    "version": 3
   },
   "file_extension": ".py",
   "mimetype": "text/x-python",
   "name": "python",
   "nbconvert_exporter": "python",
   "pygments_lexer": "ipython3",
   "version": "3.9.16"
  }
 },
 "nbformat": 4,
 "nbformat_minor": 2
}
